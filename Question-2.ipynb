{
 "cells": [
  {
   "cell_type": "code",
   "execution_count": 59,
   "id": "worst-behalf",
   "metadata": {},
   "outputs": [],
   "source": [
    "from dateutil.parser import parse \n",
    "import matplotlib as mpl\n",
    "import matplotlib.pyplot as plt\n",
    "import seaborn as sns\n",
    "import numpy as np\n",
    "import pandas as pd\n",
    "import matplotlib.pyplot as plt\n",
    "from statsmodels.tsa.seasonal import seasonal_decompose\n"
   ]
  },
  {
   "cell_type": "code",
   "execution_count": 8,
   "id": "periodic-williams",
   "metadata": {},
   "outputs": [],
   "source": [
    "df=pd.read_csv('/home/rishibaijal/Documents/CDAC/Module 11: AA/LabExam/Euro/euro-daily-hist_1999_2020.csv', parse_dates=[\"Period\\\\Unit:\"])"
   ]
  },
  {
   "cell_type": "code",
   "execution_count": 9,
   "id": "raising-spread",
   "metadata": {},
   "outputs": [
    {
     "data": {
      "text/html": [
       "<div>\n",
       "<style scoped>\n",
       "    .dataframe tbody tr th:only-of-type {\n",
       "        vertical-align: middle;\n",
       "    }\n",
       "\n",
       "    .dataframe tbody tr th {\n",
       "        vertical-align: top;\n",
       "    }\n",
       "\n",
       "    .dataframe thead th {\n",
       "        text-align: right;\n",
       "    }\n",
       "</style>\n",
       "<table border=\"1\" class=\"dataframe\">\n",
       "  <thead>\n",
       "    <tr style=\"text-align: right;\">\n",
       "      <th></th>\n",
       "      <th>Period\\Unit:</th>\n",
       "      <th>[Australian dollar ]</th>\n",
       "      <th>[Bulgarian lev ]</th>\n",
       "      <th>[Brazilian real ]</th>\n",
       "      <th>[Canadian dollar ]</th>\n",
       "      <th>[Swiss franc ]</th>\n",
       "      <th>[Chinese yuan renminbi ]</th>\n",
       "      <th>[Cypriot pound ]</th>\n",
       "      <th>[Czech koruna ]</th>\n",
       "      <th>[Danish krone ]</th>\n",
       "      <th>...</th>\n",
       "      <th>[Romanian leu ]</th>\n",
       "      <th>[Russian rouble ]</th>\n",
       "      <th>[Swedish krona ]</th>\n",
       "      <th>[Singapore dollar ]</th>\n",
       "      <th>[Slovenian tolar ]</th>\n",
       "      <th>[Slovak koruna ]</th>\n",
       "      <th>[Thai baht ]</th>\n",
       "      <th>[Turkish lira ]</th>\n",
       "      <th>[US dollar ]</th>\n",
       "      <th>[South African rand ]</th>\n",
       "    </tr>\n",
       "  </thead>\n",
       "  <tbody>\n",
       "    <tr>\n",
       "      <th>0</th>\n",
       "      <td>2021-02-12</td>\n",
       "      <td>1.5666</td>\n",
       "      <td>1.9558</td>\n",
       "      <td>6.5302</td>\n",
       "      <td>1.5418</td>\n",
       "      <td>1.0803</td>\n",
       "      <td>7.8207</td>\n",
       "      <td>NaN</td>\n",
       "      <td>25.753</td>\n",
       "      <td>7.4361</td>\n",
       "      <td>...</td>\n",
       "      <td>4.8746</td>\n",
       "      <td>89.8055</td>\n",
       "      <td>10.0818</td>\n",
       "      <td>1.6066</td>\n",
       "      <td>NaN</td>\n",
       "      <td>NaN</td>\n",
       "      <td>36.2150</td>\n",
       "      <td>8.5010</td>\n",
       "      <td>1.2108</td>\n",
       "      <td>17.7362</td>\n",
       "    </tr>\n",
       "    <tr>\n",
       "      <th>1</th>\n",
       "      <td>2021-02-11</td>\n",
       "      <td>1.5638</td>\n",
       "      <td>1.9558</td>\n",
       "      <td>6.4936</td>\n",
       "      <td>1.5384</td>\n",
       "      <td>1.0802</td>\n",
       "      <td>7.8448</td>\n",
       "      <td>NaN</td>\n",
       "      <td>25.772</td>\n",
       "      <td>7.4380</td>\n",
       "      <td>...</td>\n",
       "      <td>4.8745</td>\n",
       "      <td>89.3792</td>\n",
       "      <td>10.0868</td>\n",
       "      <td>1.6080</td>\n",
       "      <td>NaN</td>\n",
       "      <td>NaN</td>\n",
       "      <td>36.2710</td>\n",
       "      <td>8.5254</td>\n",
       "      <td>1.2147</td>\n",
       "      <td>17.7533</td>\n",
       "    </tr>\n",
       "    <tr>\n",
       "      <th>2</th>\n",
       "      <td>2021-02-10</td>\n",
       "      <td>1.5682</td>\n",
       "      <td>1.9558</td>\n",
       "      <td>6.5641</td>\n",
       "      <td>1.5394</td>\n",
       "      <td>1.0805</td>\n",
       "      <td>7.8235</td>\n",
       "      <td>NaN</td>\n",
       "      <td>25.835</td>\n",
       "      <td>7.4373</td>\n",
       "      <td>...</td>\n",
       "      <td>4.8752</td>\n",
       "      <td>89.5116</td>\n",
       "      <td>10.0800</td>\n",
       "      <td>1.6080</td>\n",
       "      <td>NaN</td>\n",
       "      <td>NaN</td>\n",
       "      <td>36.2660</td>\n",
       "      <td>8.5503</td>\n",
       "      <td>1.2127</td>\n",
       "      <td>17.8301</td>\n",
       "    </tr>\n",
       "    <tr>\n",
       "      <th>3</th>\n",
       "      <td>2021-02-09</td>\n",
       "      <td>1.5681</td>\n",
       "      <td>1.9558</td>\n",
       "      <td>6.5530</td>\n",
       "      <td>1.5414</td>\n",
       "      <td>1.0817</td>\n",
       "      <td>7.7894</td>\n",
       "      <td>NaN</td>\n",
       "      <td>25.738</td>\n",
       "      <td>7.4369</td>\n",
       "      <td>...</td>\n",
       "      <td>4.8753</td>\n",
       "      <td>89.6164</td>\n",
       "      <td>10.1058</td>\n",
       "      <td>1.6074</td>\n",
       "      <td>NaN</td>\n",
       "      <td>NaN</td>\n",
       "      <td>36.2390</td>\n",
       "      <td>8.5883</td>\n",
       "      <td>1.2104</td>\n",
       "      <td>17.8953</td>\n",
       "    </tr>\n",
       "    <tr>\n",
       "      <th>4</th>\n",
       "      <td>2021-02-08</td>\n",
       "      <td>1.5693</td>\n",
       "      <td>1.9558</td>\n",
       "      <td>6.4955</td>\n",
       "      <td>1.5363</td>\n",
       "      <td>1.0842</td>\n",
       "      <td>7.7618</td>\n",
       "      <td>NaN</td>\n",
       "      <td>25.739</td>\n",
       "      <td>7.4365</td>\n",
       "      <td>...</td>\n",
       "      <td>4.8748</td>\n",
       "      <td>89.4049</td>\n",
       "      <td>10.1148</td>\n",
       "      <td>1.6067</td>\n",
       "      <td>NaN</td>\n",
       "      <td>NaN</td>\n",
       "      <td>36.0980</td>\n",
       "      <td>8.5308</td>\n",
       "      <td>1.2025</td>\n",
       "      <td>17.9701</td>\n",
       "    </tr>\n",
       "  </tbody>\n",
       "</table>\n",
       "<p>5 rows × 41 columns</p>\n",
       "</div>"
      ],
      "text/plain": [
       "  Period\\Unit: [Australian dollar ] [Bulgarian lev ] [Brazilian real ]  \\\n",
       "0   2021-02-12               1.5666           1.9558            6.5302   \n",
       "1   2021-02-11               1.5638           1.9558            6.4936   \n",
       "2   2021-02-10               1.5682           1.9558            6.5641   \n",
       "3   2021-02-09               1.5681           1.9558            6.5530   \n",
       "4   2021-02-08               1.5693           1.9558            6.4955   \n",
       "\n",
       "  [Canadian dollar ] [Swiss franc ] [Chinese yuan renminbi ] [Cypriot pound ]  \\\n",
       "0             1.5418         1.0803                   7.8207              NaN   \n",
       "1             1.5384         1.0802                   7.8448              NaN   \n",
       "2             1.5394         1.0805                   7.8235              NaN   \n",
       "3             1.5414         1.0817                   7.7894              NaN   \n",
       "4             1.5363         1.0842                   7.7618              NaN   \n",
       "\n",
       "  [Czech koruna ] [Danish krone ]  ... [Romanian leu ] [Russian rouble ]  \\\n",
       "0          25.753          7.4361  ...          4.8746           89.8055   \n",
       "1          25.772          7.4380  ...          4.8745           89.3792   \n",
       "2          25.835          7.4373  ...          4.8752           89.5116   \n",
       "3          25.738          7.4369  ...          4.8753           89.6164   \n",
       "4          25.739          7.4365  ...          4.8748           89.4049   \n",
       "\n",
       "  [Swedish krona ] [Singapore dollar ] [Slovenian tolar ] [Slovak koruna ]  \\\n",
       "0          10.0818              1.6066                NaN              NaN   \n",
       "1          10.0868              1.6080                NaN              NaN   \n",
       "2          10.0800              1.6080                NaN              NaN   \n",
       "3          10.1058              1.6074                NaN              NaN   \n",
       "4          10.1148              1.6067                NaN              NaN   \n",
       "\n",
       "  [Thai baht ] [Turkish lira ] [US dollar ]  [South African rand ]  \n",
       "0      36.2150          8.5010       1.2108                17.7362  \n",
       "1      36.2710          8.5254       1.2147                17.7533  \n",
       "2      36.2660          8.5503       1.2127                17.8301  \n",
       "3      36.2390          8.5883       1.2104                17.8953  \n",
       "4      36.0980          8.5308       1.2025                17.9701  \n",
       "\n",
       "[5 rows x 41 columns]"
      ]
     },
     "execution_count": 9,
     "metadata": {},
     "output_type": "execute_result"
    }
   ],
   "source": [
    "df.head()"
   ]
  },
  {
   "cell_type": "code",
   "execution_count": 10,
   "id": "tamil-depth",
   "metadata": {},
   "outputs": [
    {
     "data": {
      "text/plain": [
       "Index(['Period\\Unit:', '[Australian dollar ]', '[Bulgarian lev ]',\n",
       "       '[Brazilian real ]', '[Canadian dollar ]', '[Swiss franc ]',\n",
       "       '[Chinese yuan renminbi ]', '[Cypriot pound ]', '[Czech koruna ]',\n",
       "       '[Danish krone ]', '[Estonian kroon ]', '[UK pound sterling ]',\n",
       "       '[Greek drachma ]', '[Hong Kong dollar ]', '[Croatian kuna ]',\n",
       "       '[Hungarian forint ]', '[Indonesian rupiah ]', '[Israeli shekel ]',\n",
       "       '[Indian rupee ]', '[Iceland krona ]', '[Japanese yen ]',\n",
       "       '[Korean won ]', '[Lithuanian litas ]', '[Latvian lats ]',\n",
       "       '[Maltese lira ]', '[Mexican peso ]', '[Malaysian ringgit ]',\n",
       "       '[Norwegian krone ]', '[New Zealand dollar ]', '[Philippine peso ]',\n",
       "       '[Polish zloty ]', '[Romanian leu ]', '[Russian rouble ]',\n",
       "       '[Swedish krona ]', '[Singapore dollar ]', '[Slovenian tolar ]',\n",
       "       '[Slovak koruna ]', '[Thai baht ]', '[Turkish lira ]', '[US dollar ]',\n",
       "       '[South African rand ]'],\n",
       "      dtype='object')"
      ]
     },
     "execution_count": 10,
     "metadata": {},
     "output_type": "execute_result"
    }
   ],
   "source": [
    "df.columns"
   ]
  },
  {
   "cell_type": "code",
   "execution_count": 11,
   "id": "minimal-essence",
   "metadata": {},
   "outputs": [
    {
     "data": {
      "text/plain": [
       "Period\\Unit:                   0\n",
       "[Australian dollar ]           0\n",
       "[Bulgarian lev ]             402\n",
       "[Brazilian real ]            268\n",
       "[Canadian dollar ]             0\n",
       "[Swiss franc ]                 0\n",
       "[Chinese yuan renminbi ]     268\n",
       "[Cypriot pound ]            3378\n",
       "[Czech koruna ]                0\n",
       "[Danish krone ]                0\n",
       "[Estonian kroon ]           2594\n",
       "[UK pound sterling ]           0\n",
       "[Greek drachma ]            5204\n",
       "[Hong Kong dollar ]            0\n",
       "[Croatian kuna ]             268\n",
       "[Hungarian forint ]            0\n",
       "[Indonesian rupiah ]           0\n",
       "[Israeli shekel ]            268\n",
       "[Indian rupee ]              268\n",
       "[Iceland krona ]            2407\n",
       "[Japanese yen ]                0\n",
       "[Korean won ]                  0\n",
       "[Lithuanian litas ]         1565\n",
       "[Latvian lats ]             1820\n",
       "[Maltese lira ]             3378\n",
       "[Mexican peso ]                0\n",
       "[Malaysian ringgit ]           0\n",
       "[Norwegian krone ]             0\n",
       "[New Zealand dollar ]          0\n",
       "[Philippine peso ]             0\n",
       "[Polish zloty ]                0\n",
       "[Romanian leu ]               62\n",
       "[Russian rouble ]              0\n",
       "[Swedish krona ]               0\n",
       "[Singapore dollar ]            0\n",
       "[Slovenian tolar ]          3639\n",
       "[Slovak koruna ]            3116\n",
       "[Thai baht ]                   0\n",
       "[Turkish lira ]               62\n",
       "[US dollar ]                   0\n",
       "[South African rand ]          0\n",
       "dtype: int64"
      ]
     },
     "execution_count": 11,
     "metadata": {},
     "output_type": "execute_result"
    }
   ],
   "source": [
    "df.isna().sum()"
   ]
  },
  {
   "cell_type": "markdown",
   "id": "thermal-growing",
   "metadata": {},
   "source": [
    "Since we are required to select only one currency and perform operations on it, I will be performing all operations on the US Dollar. "
   ]
  },
  {
   "cell_type": "code",
   "execution_count": 12,
   "id": "configured-india",
   "metadata": {},
   "outputs": [],
   "source": [
    "df_new=df[[\"Period\\\\Unit:\", \"[US dollar ]\"]]"
   ]
  },
  {
   "cell_type": "code",
   "execution_count": 13,
   "id": "computational-mountain",
   "metadata": {},
   "outputs": [
    {
     "data": {
      "text/html": [
       "<div>\n",
       "<style scoped>\n",
       "    .dataframe tbody tr th:only-of-type {\n",
       "        vertical-align: middle;\n",
       "    }\n",
       "\n",
       "    .dataframe tbody tr th {\n",
       "        vertical-align: top;\n",
       "    }\n",
       "\n",
       "    .dataframe thead th {\n",
       "        text-align: right;\n",
       "    }\n",
       "</style>\n",
       "<table border=\"1\" class=\"dataframe\">\n",
       "  <thead>\n",
       "    <tr style=\"text-align: right;\">\n",
       "      <th></th>\n",
       "      <th>Period\\Unit:</th>\n",
       "      <th>[US dollar ]</th>\n",
       "    </tr>\n",
       "  </thead>\n",
       "  <tbody>\n",
       "    <tr>\n",
       "      <th>0</th>\n",
       "      <td>2021-02-12</td>\n",
       "      <td>1.2108</td>\n",
       "    </tr>\n",
       "    <tr>\n",
       "      <th>1</th>\n",
       "      <td>2021-02-11</td>\n",
       "      <td>1.2147</td>\n",
       "    </tr>\n",
       "    <tr>\n",
       "      <th>2</th>\n",
       "      <td>2021-02-10</td>\n",
       "      <td>1.2127</td>\n",
       "    </tr>\n",
       "    <tr>\n",
       "      <th>3</th>\n",
       "      <td>2021-02-09</td>\n",
       "      <td>1.2104</td>\n",
       "    </tr>\n",
       "    <tr>\n",
       "      <th>4</th>\n",
       "      <td>2021-02-08</td>\n",
       "      <td>1.2025</td>\n",
       "    </tr>\n",
       "  </tbody>\n",
       "</table>\n",
       "</div>"
      ],
      "text/plain": [
       "  Period\\Unit: [US dollar ]\n",
       "0   2021-02-12       1.2108\n",
       "1   2021-02-11       1.2147\n",
       "2   2021-02-10       1.2127\n",
       "3   2021-02-09       1.2104\n",
       "4   2021-02-08       1.2025"
      ]
     },
     "execution_count": 13,
     "metadata": {},
     "output_type": "execute_result"
    }
   ],
   "source": [
    "df_new.head()"
   ]
  },
  {
   "cell_type": "code",
   "execution_count": 14,
   "id": "convinced-haven",
   "metadata": {},
   "outputs": [],
   "source": [
    "df_new.columns=[\"Date\", \"US dollar\"]"
   ]
  },
  {
   "cell_type": "code",
   "execution_count": 15,
   "id": "pacific-trash",
   "metadata": {},
   "outputs": [
    {
     "data": {
      "text/html": [
       "<div>\n",
       "<style scoped>\n",
       "    .dataframe tbody tr th:only-of-type {\n",
       "        vertical-align: middle;\n",
       "    }\n",
       "\n",
       "    .dataframe tbody tr th {\n",
       "        vertical-align: top;\n",
       "    }\n",
       "\n",
       "    .dataframe thead th {\n",
       "        text-align: right;\n",
       "    }\n",
       "</style>\n",
       "<table border=\"1\" class=\"dataframe\">\n",
       "  <thead>\n",
       "    <tr style=\"text-align: right;\">\n",
       "      <th></th>\n",
       "      <th>Date</th>\n",
       "      <th>US dollar</th>\n",
       "    </tr>\n",
       "  </thead>\n",
       "  <tbody>\n",
       "    <tr>\n",
       "      <th>0</th>\n",
       "      <td>2021-02-12</td>\n",
       "      <td>1.2108</td>\n",
       "    </tr>\n",
       "    <tr>\n",
       "      <th>1</th>\n",
       "      <td>2021-02-11</td>\n",
       "      <td>1.2147</td>\n",
       "    </tr>\n",
       "    <tr>\n",
       "      <th>2</th>\n",
       "      <td>2021-02-10</td>\n",
       "      <td>1.2127</td>\n",
       "    </tr>\n",
       "    <tr>\n",
       "      <th>3</th>\n",
       "      <td>2021-02-09</td>\n",
       "      <td>1.2104</td>\n",
       "    </tr>\n",
       "    <tr>\n",
       "      <th>4</th>\n",
       "      <td>2021-02-08</td>\n",
       "      <td>1.2025</td>\n",
       "    </tr>\n",
       "  </tbody>\n",
       "</table>\n",
       "</div>"
      ],
      "text/plain": [
       "        Date US dollar\n",
       "0 2021-02-12    1.2108\n",
       "1 2021-02-11    1.2147\n",
       "2 2021-02-10    1.2127\n",
       "3 2021-02-09    1.2104\n",
       "4 2021-02-08    1.2025"
      ]
     },
     "execution_count": 15,
     "metadata": {},
     "output_type": "execute_result"
    }
   ],
   "source": [
    "df_new.head()"
   ]
  },
  {
   "cell_type": "code",
   "execution_count": 18,
   "id": "conventional-receiver",
   "metadata": {},
   "outputs": [
    {
     "name": "stderr",
     "output_type": "stream",
     "text": [
      "/home/rishibaijal/anaconda3/lib/python3.7/site-packages/pandas/core/frame.py:4312: SettingWithCopyWarning: \n",
      "A value is trying to be set on a copy of a slice from a DataFrame\n",
      "\n",
      "See the caveats in the documentation: https://pandas.pydata.org/pandas-docs/stable/user_guide/indexing.html#returning-a-view-versus-a-copy\n",
      "  errors=errors,\n"
     ]
    }
   ],
   "source": [
    "df_new.index=df_new[\"Date\"]\n",
    "df_new.drop(\"Date\", axis=1, inplace=True)"
   ]
  },
  {
   "cell_type": "code",
   "execution_count": 19,
   "id": "electoral-juice",
   "metadata": {},
   "outputs": [
    {
     "data": {
      "text/html": [
       "<div>\n",
       "<style scoped>\n",
       "    .dataframe tbody tr th:only-of-type {\n",
       "        vertical-align: middle;\n",
       "    }\n",
       "\n",
       "    .dataframe tbody tr th {\n",
       "        vertical-align: top;\n",
       "    }\n",
       "\n",
       "    .dataframe thead th {\n",
       "        text-align: right;\n",
       "    }\n",
       "</style>\n",
       "<table border=\"1\" class=\"dataframe\">\n",
       "  <thead>\n",
       "    <tr style=\"text-align: right;\">\n",
       "      <th></th>\n",
       "      <th>US dollar</th>\n",
       "    </tr>\n",
       "    <tr>\n",
       "      <th>Date</th>\n",
       "      <th></th>\n",
       "    </tr>\n",
       "  </thead>\n",
       "  <tbody>\n",
       "    <tr>\n",
       "      <th>2021-02-12</th>\n",
       "      <td>1.2108</td>\n",
       "    </tr>\n",
       "    <tr>\n",
       "      <th>2021-02-11</th>\n",
       "      <td>1.2147</td>\n",
       "    </tr>\n",
       "    <tr>\n",
       "      <th>2021-02-10</th>\n",
       "      <td>1.2127</td>\n",
       "    </tr>\n",
       "    <tr>\n",
       "      <th>2021-02-09</th>\n",
       "      <td>1.2104</td>\n",
       "    </tr>\n",
       "    <tr>\n",
       "      <th>2021-02-08</th>\n",
       "      <td>1.2025</td>\n",
       "    </tr>\n",
       "  </tbody>\n",
       "</table>\n",
       "</div>"
      ],
      "text/plain": [
       "           US dollar\n",
       "Date                \n",
       "2021-02-12    1.2108\n",
       "2021-02-11    1.2147\n",
       "2021-02-10    1.2127\n",
       "2021-02-09    1.2104\n",
       "2021-02-08    1.2025"
      ]
     },
     "execution_count": 19,
     "metadata": {},
     "output_type": "execute_result"
    }
   ],
   "source": [
    "df_new.head()"
   ]
  },
  {
   "cell_type": "code",
   "execution_count": 29,
   "id": "composed-latvia",
   "metadata": {},
   "outputs": [
    {
     "name": "stderr",
     "output_type": "stream",
     "text": [
      "/home/rishibaijal/anaconda3/lib/python3.7/site-packages/ipykernel_launcher.py:1: SettingWithCopyWarning: \n",
      "A value is trying to be set on a copy of a slice from a DataFrame.\n",
      "Try using .loc[row_indexer,col_indexer] = value instead\n",
      "\n",
      "See the caveats in the documentation: https://pandas.pydata.org/pandas-docs/stable/user_guide/indexing.html#returning-a-view-versus-a-copy\n",
      "  \"\"\"Entry point for launching an IPython kernel.\n"
     ]
    }
   ],
   "source": [
    "df_new[\"US dollar\"]=df_new[\"US dollar\"].rank(method=\"dense\").astype(int)"
   ]
  },
  {
   "cell_type": "code",
   "execution_count": 30,
   "id": "statistical-commissioner",
   "metadata": {},
   "outputs": [
    {
     "data": {
      "text/plain": [
       "US dollar    int64\n",
       "dtype: object"
      ]
     },
     "execution_count": 30,
     "metadata": {},
     "output_type": "execute_result"
    }
   ],
   "source": [
    "df_new.dtypes"
   ]
  },
  {
   "cell_type": "markdown",
   "id": "opposite-maryland",
   "metadata": {},
   "source": [
    "Visualisations\n",
    "---"
   ]
  },
  {
   "cell_type": "code",
   "execution_count": 31,
   "id": "tropical-expression",
   "metadata": {},
   "outputs": [
    {
     "data": {
      "image/png": "[encoded data removed]",
      "text/plain": [
       "<Figure size 1152x864 with 1 Axes>"
      ]
     },
     "metadata": {
      "needs_background": "light"
     },
     "output_type": "display_data"
    }
   ],
   "source": [
    "def plot_df(df, x, y, title=\"\", xlabel='Date', ylabel='US dollar'):\n",
    "    plt.figure(figsize=(16,12))\n",
    "    plt.plot(x, y, color='tab:red')\n",
    "    plt.gca().set(title=title, xlabel=xlabel, ylabel=ylabel)\n",
    "    plt.show()\n",
    "\n",
    "plot_df(df_new, x=df_new.index, y=df_new[\"US dollar\"], title='Value of the US dollar from 1999 to 2020+')  "
   ]
  },
  {
   "cell_type": "code",
   "execution_count": 34,
   "id": "transparent-arbor",
   "metadata": {},
   "outputs": [],
   "source": [
    "df_new.reset_index(inplace=True)"
   ]
  },
  {
   "cell_type": "code",
   "execution_count": 37,
   "id": "continental-region",
   "metadata": {},
   "outputs": [
    {
     "data": {
      "text/html": [
       "<div>\n",
       "<style scoped>\n",
       "    .dataframe tbody tr th:only-of-type {\n",
       "        vertical-align: middle;\n",
       "    }\n",
       "\n",
       "    .dataframe tbody tr th {\n",
       "        vertical-align: top;\n",
       "    }\n",
       "\n",
       "    .dataframe thead th {\n",
       "        text-align: right;\n",
       "    }\n",
       "</style>\n",
       "<table border=\"1\" class=\"dataframe\">\n",
       "  <thead>\n",
       "    <tr style=\"text-align: right;\">\n",
       "      <th></th>\n",
       "      <th>Date</th>\n",
       "      <th>US dollar</th>\n",
       "    </tr>\n",
       "  </thead>\n",
       "  <tbody>\n",
       "    <tr>\n",
       "      <th>0</th>\n",
       "      <td>2021-02-12</td>\n",
       "      <td>1814</td>\n",
       "    </tr>\n",
       "    <tr>\n",
       "      <th>1</th>\n",
       "      <td>2021-02-11</td>\n",
       "      <td>1842</td>\n",
       "    </tr>\n",
       "    <tr>\n",
       "      <th>2</th>\n",
       "      <td>2021-02-10</td>\n",
       "      <td>1829</td>\n",
       "    </tr>\n",
       "    <tr>\n",
       "      <th>3</th>\n",
       "      <td>2021-02-09</td>\n",
       "      <td>1811</td>\n",
       "    </tr>\n",
       "    <tr>\n",
       "      <th>4</th>\n",
       "      <td>2021-02-08</td>\n",
       "      <td>1756</td>\n",
       "    </tr>\n",
       "  </tbody>\n",
       "</table>\n",
       "</div>"
      ],
      "text/plain": [
       "        Date  US dollar\n",
       "0 2021-02-12       1814\n",
       "1 2021-02-11       1842\n",
       "2 2021-02-10       1829\n",
       "3 2021-02-09       1811\n",
       "4 2021-02-08       1756"
      ]
     },
     "execution_count": 37,
     "metadata": {},
     "output_type": "execute_result"
    }
   ],
   "source": [
    "df_new.head()"
   ]
  },
  {
   "cell_type": "code",
   "execution_count": 38,
   "id": "demonstrated-failing",
   "metadata": {},
   "outputs": [
    {
     "name": "stdout",
     "output_type": "stream",
     "text": [
      "[2021 2020 2019 2018 2017 2016 2015 2014 2013 2012 2011 2010 2009 2008\n",
      " 2007 2006 2005 2004 2003 2002 2001 2000 1999]\n"
     ]
    },
    {
     "name": "stderr",
     "output_type": "stream",
     "text": [
      "/home/rishibaijal/anaconda3/lib/python3.7/site-packages/ipykernel_launcher.py:1: SettingWithCopyWarning: \n",
      "A value is trying to be set on a copy of a slice from a DataFrame.\n",
      "Try using .loc[row_indexer,col_indexer] = value instead\n",
      "\n",
      "See the caveats in the documentation: https://pandas.pydata.org/pandas-docs/stable/user_guide/indexing.html#returning-a-view-versus-a-copy\n",
      "  \"\"\"Entry point for launching an IPython kernel.\n",
      "/home/rishibaijal/anaconda3/lib/python3.7/site-packages/ipykernel_launcher.py:2: SettingWithCopyWarning: \n",
      "A value is trying to be set on a copy of a slice from a DataFrame.\n",
      "Try using .loc[row_indexer,col_indexer] = value instead\n",
      "\n",
      "See the caveats in the documentation: https://pandas.pydata.org/pandas-docs/stable/user_guide/indexing.html#returning-a-view-versus-a-copy\n",
      "  \n"
     ]
    }
   ],
   "source": [
    "df_new['year'] = [d.year for d in df_new[\"Date\"]]\n",
    "df_new['month'] = [d.strftime('%B') for d in df_new[\"Date\"]]\n",
    "years = df_new['year'].unique()\n",
    "print(years)"
   ]
  },
  {
   "cell_type": "code",
   "execution_count": 39,
   "id": "devoted-nightmare",
   "metadata": {},
   "outputs": [
    {
     "data": {
      "text/html": [
       "<div>\n",
       "<style scoped>\n",
       "    .dataframe tbody tr th:only-of-type {\n",
       "        vertical-align: middle;\n",
       "    }\n",
       "\n",
       "    .dataframe tbody tr th {\n",
       "        vertical-align: top;\n",
       "    }\n",
       "\n",
       "    .dataframe thead th {\n",
       "        text-align: right;\n",
       "    }\n",
       "</style>\n",
       "<table border=\"1\" class=\"dataframe\">\n",
       "  <thead>\n",
       "    <tr style=\"text-align: right;\">\n",
       "      <th></th>\n",
       "      <th>Date</th>\n",
       "      <th>US dollar</th>\n",
       "      <th>year</th>\n",
       "      <th>month</th>\n",
       "    </tr>\n",
       "  </thead>\n",
       "  <tbody>\n",
       "    <tr>\n",
       "      <th>0</th>\n",
       "      <td>2021-02-12</td>\n",
       "      <td>1814</td>\n",
       "      <td>2021</td>\n",
       "      <td>February</td>\n",
       "    </tr>\n",
       "    <tr>\n",
       "      <th>1</th>\n",
       "      <td>2021-02-11</td>\n",
       "      <td>1842</td>\n",
       "      <td>2021</td>\n",
       "      <td>February</td>\n",
       "    </tr>\n",
       "    <tr>\n",
       "      <th>2</th>\n",
       "      <td>2021-02-10</td>\n",
       "      <td>1829</td>\n",
       "      <td>2021</td>\n",
       "      <td>February</td>\n",
       "    </tr>\n",
       "    <tr>\n",
       "      <th>3</th>\n",
       "      <td>2021-02-09</td>\n",
       "      <td>1811</td>\n",
       "      <td>2021</td>\n",
       "      <td>February</td>\n",
       "    </tr>\n",
       "    <tr>\n",
       "      <th>4</th>\n",
       "      <td>2021-02-08</td>\n",
       "      <td>1756</td>\n",
       "      <td>2021</td>\n",
       "      <td>February</td>\n",
       "    </tr>\n",
       "  </tbody>\n",
       "</table>\n",
       "</div>"
      ],
      "text/plain": [
       "        Date  US dollar  year     month\n",
       "0 2021-02-12       1814  2021  February\n",
       "1 2021-02-11       1842  2021  February\n",
       "2 2021-02-10       1829  2021  February\n",
       "3 2021-02-09       1811  2021  February\n",
       "4 2021-02-08       1756  2021  February"
      ]
     },
     "execution_count": 39,
     "metadata": {},
     "output_type": "execute_result"
    }
   ],
   "source": [
    "df_new.head()"
   ]
  },
  {
   "cell_type": "code",
   "execution_count": 40,
   "id": "emotional-stationery",
   "metadata": {},
   "outputs": [
    {
     "data": {
      "text/html": [
       "<div>\n",
       "<style scoped>\n",
       "    .dataframe tbody tr th:only-of-type {\n",
       "        vertical-align: middle;\n",
       "    }\n",
       "\n",
       "    .dataframe tbody tr th {\n",
       "        vertical-align: top;\n",
       "    }\n",
       "\n",
       "    .dataframe thead th {\n",
       "        text-align: right;\n",
       "    }\n",
       "</style>\n",
       "<table border=\"1\" class=\"dataframe\">\n",
       "  <thead>\n",
       "    <tr style=\"text-align: right;\">\n",
       "      <th></th>\n",
       "      <th>Date</th>\n",
       "      <th>US dollar</th>\n",
       "      <th>year</th>\n",
       "      <th>month</th>\n",
       "    </tr>\n",
       "  </thead>\n",
       "  <tbody>\n",
       "    <tr>\n",
       "      <th>5719</th>\n",
       "      <td>1999-01-08</td>\n",
       "      <td>1501</td>\n",
       "      <td>1999</td>\n",
       "      <td>January</td>\n",
       "    </tr>\n",
       "    <tr>\n",
       "      <th>5720</th>\n",
       "      <td>1999-01-07</td>\n",
       "      <td>1483</td>\n",
       "      <td>1999</td>\n",
       "      <td>January</td>\n",
       "    </tr>\n",
       "    <tr>\n",
       "      <th>5721</th>\n",
       "      <td>1999-01-06</td>\n",
       "      <td>1559</td>\n",
       "      <td>1999</td>\n",
       "      <td>January</td>\n",
       "    </tr>\n",
       "    <tr>\n",
       "      <th>5722</th>\n",
       "      <td>1999-01-05</td>\n",
       "      <td>1598</td>\n",
       "      <td>1999</td>\n",
       "      <td>January</td>\n",
       "    </tr>\n",
       "    <tr>\n",
       "      <th>5723</th>\n",
       "      <td>1999-01-04</td>\n",
       "      <td>1597</td>\n",
       "      <td>1999</td>\n",
       "      <td>January</td>\n",
       "    </tr>\n",
       "  </tbody>\n",
       "</table>\n",
       "</div>"
      ],
      "text/plain": [
       "           Date  US dollar  year    month\n",
       "5719 1999-01-08       1501  1999  January\n",
       "5720 1999-01-07       1483  1999  January\n",
       "5721 1999-01-06       1559  1999  January\n",
       "5722 1999-01-05       1598  1999  January\n",
       "5723 1999-01-04       1597  1999  January"
      ]
     },
     "execution_count": 40,
     "metadata": {},
     "output_type": "execute_result"
    }
   ],
   "source": [
    "df_new.tail()"
   ]
  },
  {
   "cell_type": "code",
   "execution_count": 41,
   "id": "casual-bulgaria",
   "metadata": {},
   "outputs": [],
   "source": [
    "np.random.seed(100)\n",
    "mycolors = np.random.choice(list(mpl.colors.XKCD_COLORS.keys()), len(years), replace=False)"
   ]
  },
  {
   "cell_type": "code",
   "execution_count": 47,
   "id": "acoustic-arrangement",
   "metadata": {},
   "outputs": [],
   "source": [
    "df=df_new"
   ]
  },
  {
   "cell_type": "code",
   "execution_count": 48,
   "id": "statutory-neighbor",
   "metadata": {},
   "outputs": [
    {
     "data": {
      "text/html": [
       "<div>\n",
       "<style scoped>\n",
       "    .dataframe tbody tr th:only-of-type {\n",
       "        vertical-align: middle;\n",
       "    }\n",
       "\n",
       "    .dataframe tbody tr th {\n",
       "        vertical-align: top;\n",
       "    }\n",
       "\n",
       "    .dataframe thead th {\n",
       "        text-align: right;\n",
       "    }\n",
       "</style>\n",
       "<table border=\"1\" class=\"dataframe\">\n",
       "  <thead>\n",
       "    <tr style=\"text-align: right;\">\n",
       "      <th></th>\n",
       "      <th>Date</th>\n",
       "      <th>US dollar</th>\n",
       "      <th>year</th>\n",
       "      <th>month</th>\n",
       "    </tr>\n",
       "  </thead>\n",
       "  <tbody>\n",
       "    <tr>\n",
       "      <th>0</th>\n",
       "      <td>2021-02-12</td>\n",
       "      <td>1814</td>\n",
       "      <td>2021</td>\n",
       "      <td>February</td>\n",
       "    </tr>\n",
       "    <tr>\n",
       "      <th>1</th>\n",
       "      <td>2021-02-11</td>\n",
       "      <td>1842</td>\n",
       "      <td>2021</td>\n",
       "      <td>February</td>\n",
       "    </tr>\n",
       "    <tr>\n",
       "      <th>2</th>\n",
       "      <td>2021-02-10</td>\n",
       "      <td>1829</td>\n",
       "      <td>2021</td>\n",
       "      <td>February</td>\n",
       "    </tr>\n",
       "    <tr>\n",
       "      <th>3</th>\n",
       "      <td>2021-02-09</td>\n",
       "      <td>1811</td>\n",
       "      <td>2021</td>\n",
       "      <td>February</td>\n",
       "    </tr>\n",
       "    <tr>\n",
       "      <th>4</th>\n",
       "      <td>2021-02-08</td>\n",
       "      <td>1756</td>\n",
       "      <td>2021</td>\n",
       "      <td>February</td>\n",
       "    </tr>\n",
       "    <tr>\n",
       "      <th>...</th>\n",
       "      <td>...</td>\n",
       "      <td>...</td>\n",
       "      <td>...</td>\n",
       "      <td>...</td>\n",
       "    </tr>\n",
       "    <tr>\n",
       "      <th>5719</th>\n",
       "      <td>1999-01-08</td>\n",
       "      <td>1501</td>\n",
       "      <td>1999</td>\n",
       "      <td>January</td>\n",
       "    </tr>\n",
       "    <tr>\n",
       "      <th>5720</th>\n",
       "      <td>1999-01-07</td>\n",
       "      <td>1483</td>\n",
       "      <td>1999</td>\n",
       "      <td>January</td>\n",
       "    </tr>\n",
       "    <tr>\n",
       "      <th>5721</th>\n",
       "      <td>1999-01-06</td>\n",
       "      <td>1559</td>\n",
       "      <td>1999</td>\n",
       "      <td>January</td>\n",
       "    </tr>\n",
       "    <tr>\n",
       "      <th>5722</th>\n",
       "      <td>1999-01-05</td>\n",
       "      <td>1598</td>\n",
       "      <td>1999</td>\n",
       "      <td>January</td>\n",
       "    </tr>\n",
       "    <tr>\n",
       "      <th>5723</th>\n",
       "      <td>1999-01-04</td>\n",
       "      <td>1597</td>\n",
       "      <td>1999</td>\n",
       "      <td>January</td>\n",
       "    </tr>\n",
       "  </tbody>\n",
       "</table>\n",
       "<p>5724 rows × 4 columns</p>\n",
       "</div>"
      ],
      "text/plain": [
       "           Date  US dollar  year     month\n",
       "0    2021-02-12       1814  2021  February\n",
       "1    2021-02-11       1842  2021  February\n",
       "2    2021-02-10       1829  2021  February\n",
       "3    2021-02-09       1811  2021  February\n",
       "4    2021-02-08       1756  2021  February\n",
       "...         ...        ...   ...       ...\n",
       "5719 1999-01-08       1501  1999   January\n",
       "5720 1999-01-07       1483  1999   January\n",
       "5721 1999-01-06       1559  1999   January\n",
       "5722 1999-01-05       1598  1999   January\n",
       "5723 1999-01-04       1597  1999   January\n",
       "\n",
       "[5724 rows x 4 columns]"
      ]
     },
     "execution_count": 48,
     "metadata": {},
     "output_type": "execute_result"
    }
   ],
   "source": [
    "df"
   ]
  },
  {
   "cell_type": "code",
   "execution_count": 58,
   "id": "built-offense",
   "metadata": {},
   "outputs": [
    {
     "data": {
      "image/png": "[encoded data removed]",
      "text/plain": [
       "<Figure size 1600x560 with 2 Axes>"
      ]
     },
     "metadata": {
      "needs_background": "light"
     },
     "output_type": "display_data"
    }
   ],
   "source": [
    "fig, axes = plt.subplots(1, 2, figsize=(20,7), dpi= 80)\n",
    "sns.boxplot(x='year', y='US dollar', data=df, ax=axes[0])\n",
    "plt.xticks(rotation=70)\n",
    "sns.boxplot(x='month', y='US dollar', data=df)\n",
    "plt.xticks(rotation=70)\n",
    "\n",
    "axes[0].set_title('Year-wise Box Plot\\n(The Trend)', fontsize=18); \n",
    "axes[1].set_title('Month-wise Box Plot\\n(The Seasonality)', fontsize=18)\n",
    "plt.show()"
   ]
  },
  {
   "cell_type": "code",
   "execution_count": 62,
   "id": "wound-prompt",
   "metadata": {},
   "outputs": [],
   "source": [
    "result_mul = seasonal_decompose(df['US dollar'], model='multiplicative', extrapolate_trend='freq', period=12)"
   ]
  },
  {
   "cell_type": "code",
   "execution_count": 63,
   "id": "excited-pollution",
   "metadata": {},
   "outputs": [],
   "source": [
    "result_add = seasonal_decompose(df['US dollar'], model='additive', extrapolate_trend='freq', period=12)"
   ]
  },
  {
   "cell_type": "code",
   "execution_count": 64,
   "id": "conventional-words",
   "metadata": {},
   "outputs": [
    {
     "data": {
      "image/png": "[encoded data removed]",
      "text/plain": [
       "<Figure size 360x360 with 4 Axes>"
      ]
     },
     "metadata": {
      "needs_background": "light"
     },
     "output_type": "display_data"
    },
    {
     "data": {
      "image/png": "[encoded data removed]",
      "text/plain": [
       "<Figure size 360x360 with 4 Axes>"
      ]
     },
     "metadata": {
      "needs_background": "light"
     },
     "output_type": "display_data"
    }
   ],
   "source": [
    "plt.rcParams.update({'figure.figsize': (5,5)})\n",
    "result_mul.plot().suptitle('Multiplicative Decompose', fontsize=22)\n",
    "result_add.plot().suptitle('Additive Decompose', fontsize=22)\n",
    "plt.show()"
   ]
  },
  {
   "cell_type": "code",
   "execution_count": 65,
   "id": "distant-zambia",
   "metadata": {},
   "outputs": [
    {
     "data": {
      "text/html": [
       "<div>\n",
       "<style scoped>\n",
       "    .dataframe tbody tr th:only-of-type {\n",
       "        vertical-align: middle;\n",
       "    }\n",
       "\n",
       "    .dataframe tbody tr th {\n",
       "        vertical-align: top;\n",
       "    }\n",
       "\n",
       "    .dataframe thead th {\n",
       "        text-align: right;\n",
       "    }\n",
       "</style>\n",
       "<table border=\"1\" class=\"dataframe\">\n",
       "  <thead>\n",
       "    <tr style=\"text-align: right;\">\n",
       "      <th></th>\n",
       "      <th>seas</th>\n",
       "      <th>trend</th>\n",
       "      <th>resid</th>\n",
       "      <th>actual_values</th>\n",
       "    </tr>\n",
       "  </thead>\n",
       "  <tbody>\n",
       "    <tr>\n",
       "      <th>0</th>\n",
       "      <td>1.009531</td>\n",
       "      <td>1759.026272</td>\n",
       "      <td>1.021516</td>\n",
       "      <td>1814.0</td>\n",
       "    </tr>\n",
       "    <tr>\n",
       "      <th>1</th>\n",
       "      <td>1.012264</td>\n",
       "      <td>1763.285159</td>\n",
       "      <td>1.031985</td>\n",
       "      <td>1842.0</td>\n",
       "    </tr>\n",
       "    <tr>\n",
       "      <th>2</th>\n",
       "      <td>1.004098</td>\n",
       "      <td>1767.544046</td>\n",
       "      <td>1.030546</td>\n",
       "      <td>1829.0</td>\n",
       "    </tr>\n",
       "    <tr>\n",
       "      <th>3</th>\n",
       "      <td>1.008080</td>\n",
       "      <td>1771.802933</td>\n",
       "      <td>1.013930</td>\n",
       "      <td>1811.0</td>\n",
       "    </tr>\n",
       "    <tr>\n",
       "      <th>4</th>\n",
       "      <td>0.996144</td>\n",
       "      <td>1776.061820</td>\n",
       "      <td>0.992532</td>\n",
       "      <td>1756.0</td>\n",
       "    </tr>\n",
       "  </tbody>\n",
       "</table>\n",
       "</div>"
      ],
      "text/plain": [
       "       seas        trend     resid  actual_values\n",
       "0  1.009531  1759.026272  1.021516         1814.0\n",
       "1  1.012264  1763.285159  1.031985         1842.0\n",
       "2  1.004098  1767.544046  1.030546         1829.0\n",
       "3  1.008080  1771.802933  1.013930         1811.0\n",
       "4  0.996144  1776.061820  0.992532         1756.0"
      ]
     },
     "execution_count": 65,
     "metadata": {},
     "output_type": "execute_result"
    }
   ],
   "source": [
    "df_reconstructed = pd.concat([result_mul.seasonal, result_mul.trend, result_mul.resid, result_mul.observed], axis=1)\n",
    "df_reconstructed.columns = ['seas', 'trend', 'resid', 'actual_values']\n",
    "df_reconstructed.head()"
   ]
  },
  {
   "cell_type": "code",
   "execution_count": 72,
   "id": "amino-proposal",
   "metadata": {},
   "outputs": [
    {
     "data": {
      "text/plain": [
       "<AxesSubplot:ylabel='seas'>"
      ]
     },
     "execution_count": 72,
     "metadata": {},
     "output_type": "execute_result"
    },
    {
     "data": {
      "image/png": "[encoded data removed]",
      "text/plain": [
       "<Figure size 360x360 with 1 Axes>"
      ]
     },
     "metadata": {
      "needs_background": "light"
     },
     "output_type": "display_data"
    }
   ],
   "source": [
    "sns.lineplot(x=df_reconstructed.index, y=df_reconstructed[\"seas\"])"
   ]
  },
  {
   "cell_type": "code",
   "execution_count": 73,
   "id": "residential-brake",
   "metadata": {},
   "outputs": [
    {
     "data": {
      "text/plain": [
       "<AxesSubplot:ylabel='trend'>"
      ]
     },
     "execution_count": 73,
     "metadata": {},
     "output_type": "execute_result"
    },
    {
     "data": {
      "image/png": "[encoded data removed]",
      "text/plain": [
       "<Figure size 360x360 with 1 Axes>"
      ]
     },
     "metadata": {
      "needs_background": "light"
     },
     "output_type": "display_data"
    }
   ],
   "source": [
    "sns.lineplot(x=df_reconstructed.index, y=df_reconstructed[\"trend\"])"
   ]
  },
  {
   "cell_type": "code",
   "execution_count": 74,
   "id": "answering-military",
   "metadata": {},
   "outputs": [
    {
     "data": {
      "text/plain": [
       "<AxesSubplot:ylabel='resid'>"
      ]
     },
     "execution_count": 74,
     "metadata": {},
     "output_type": "execute_result"
    },
    {
     "data": {
      "image/png": "[encoded data removed]",
      "text/plain": [
       "<Figure size 360x360 with 1 Axes>"
      ]
     },
     "metadata": {
      "needs_background": "light"
     },
     "output_type": "display_data"
    }
   ],
   "source": [
    "sns.lineplot(x=df_reconstructed.index, y=df_reconstructed[\"resid\"])"
   ]
  },
  {
   "cell_type": "code",
   "execution_count": 75,
   "id": "liberal-ability",
   "metadata": {},
   "outputs": [
    {
     "data": {
      "text/plain": [
       "<AxesSubplot:ylabel='actual_values'>"
      ]
     },
     "execution_count": 75,
     "metadata": {},
     "output_type": "execute_result"
    },
    {
     "data": {
      "image/png": "[encoded data removed]",
      "text/plain": [
       "<Figure size 360x360 with 1 Axes>"
      ]
     },
     "metadata": {
      "needs_background": "light"
     },
     "output_type": "display_data"
    }
   ],
   "source": [
    "sns.lineplot(x=df_reconstructed.index, y=df_reconstructed[\"actual_values\"])"
   ]
  },
  {
   "cell_type": "markdown",
   "id": "occasional-gauge",
   "metadata": {},
   "source": [
    "Making the time series stationary\n",
    "---"
   ]
  },
  {
   "cell_type": "code",
   "execution_count": 84,
   "id": "rural-vermont",
   "metadata": {},
   "outputs": [
    {
     "name": "stdout",
     "output_type": "stream",
     "text": [
      "ADF Statistic: -1.8859044508352687\n",
      "p-value: 0.33872087817002405\n",
      "Critial Values:\n",
      "   1%, -3.431496354256003\n",
      "Critial Values:\n",
      "   5%, -2.8620465784344273\n",
      "Critial Values:\n",
      "   10%, -2.56703964993912\n",
      "\n",
      "KPSS Statistic: 3.808847\n",
      "p-value: 0.010000\n",
      "Critial Values:\n",
      "   10%, 0.347\n",
      "Critial Values:\n",
      "   5%, 0.463\n",
      "Critial Values:\n",
      "   2.5%, 0.574\n",
      "Critial Values:\n",
      "   1%, 0.739\n"
     ]
    },
    {
     "name": "stderr",
     "output_type": "stream",
     "text": [
      "/home/rishibaijal/anaconda3/lib/python3.7/site-packages/statsmodels/tsa/stattools.py:1875: FutureWarning: The behavior of using nlags=None will change in release 0.13.Currently nlags=None is the same as nlags=\"legacy\", and so a sample-size lag length is used. After the next release, the default will change to be the same as nlags=\"auto\" which uses an automatic lag length selection method. To silence this warning, either use \"auto\" or \"legacy\"\n",
      "  warnings.warn(msg, FutureWarning)\n",
      "/home/rishibaijal/anaconda3/lib/python3.7/site-packages/statsmodels/tsa/stattools.py:1907: InterpolationWarning: The test statistic is outside of the range of p-values available in the\n",
      "look-up table. The actual p-value is smaller than the p-value returned.\n",
      "\n",
      "  warn_msg.format(direction=\"smaller\"), InterpolationWarning\n"
     ]
    }
   ],
   "source": [
    "from statsmodels.tsa.stattools import adfuller, kpss\n",
    "def is_stat(df_column):\n",
    "    result = adfuller(df_column.values, autolag='AIC')\n",
    "    print(f'ADF Statistic: {result[0]}')\n",
    "    print(f'p-value: {result[1]}')\n",
    "    for key, value in result[4].items():\n",
    "        print('Critial Values:')\n",
    "        print(f'   {key}, {value}')\n",
    "\n",
    "    result = kpss(df_column.values, regression='c')\n",
    "    print('\\nKPSS Statistic: %f' % result[0])\n",
    "    print('p-value: %f' % result[1])\n",
    "    for key, value in result[3].items():\n",
    "        print('Critial Values:')\n",
    "        print(f'   {key}, {value}')\n",
    "is_stat(df[\"US dollar\"])"
   ]
  },
  {
   "cell_type": "markdown",
   "id": "liked-festival",
   "metadata": {},
   "source": [
    "Since the ADF statistic is higher than all the critical values, this TS is not stationary. "
   ]
  },
  {
   "cell_type": "markdown",
   "id": "further-irrigation",
   "metadata": {},
   "source": [
    "Detrending the time series - Using least square method\n",
    "---"
   ]
  },
  {
   "cell_type": "code",
   "execution_count": 80,
   "id": "activated-crack",
   "metadata": {},
   "outputs": [
    {
     "data": {
      "text/plain": [
       "Text(0.5, 1.0, 'US Dollar timeseries after detrending using scipy')"
      ]
     },
     "execution_count": 80,
     "metadata": {},
     "output_type": "execute_result"
    },
    {
     "data": {
      "image/png": "[encoded data removed]",
      "text/plain": [
       "<Figure size 1152x864 with 1 Axes>"
      ]
     },
     "metadata": {
      "needs_background": "light"
     },
     "output_type": "display_data"
    }
   ],
   "source": [
    "from scipy import signal\n",
    "detrended=signal.detrend(df[\"US dollar\"].values)\n",
    "plt.figure(figsize=(16, 12))\n",
    "plt.plot(detrended)\n",
    "plt.title(\"US Dollar timeseries after detrending using scipy\", fontsize=15)"
   ]
  },
  {
   "cell_type": "code",
   "execution_count": 82,
   "id": "searching-suspect",
   "metadata": {},
   "outputs": [],
   "source": [
    "df[\"detrended_ls\"]=detrended"
   ]
  },
  {
   "cell_type": "code",
   "execution_count": 85,
   "id": "alpha-vegetarian",
   "metadata": {},
   "outputs": [
    {
     "name": "stdout",
     "output_type": "stream",
     "text": [
      "ADF Statistic: -1.9563742353262985\n",
      "p-value: 0.3060227625913774\n",
      "Critial Values:\n",
      "   1%, -3.431496354256003\n",
      "Critial Values:\n",
      "   5%, -2.8620465784344273\n",
      "Critial Values:\n",
      "   10%, -2.56703964993912\n",
      "\n",
      "KPSS Statistic: 3.178485\n",
      "p-value: 0.010000\n",
      "Critial Values:\n",
      "   10%, 0.347\n",
      "Critial Values:\n",
      "   5%, 0.463\n",
      "Critial Values:\n",
      "   2.5%, 0.574\n",
      "Critial Values:\n",
      "   1%, 0.739\n"
     ]
    },
    {
     "name": "stderr",
     "output_type": "stream",
     "text": [
      "/home/rishibaijal/anaconda3/lib/python3.7/site-packages/statsmodels/tsa/stattools.py:1875: FutureWarning: The behavior of using nlags=None will change in release 0.13.Currently nlags=None is the same as nlags=\"legacy\", and so a sample-size lag length is used. After the next release, the default will change to be the same as nlags=\"auto\" which uses an automatic lag length selection method. To silence this warning, either use \"auto\" or \"legacy\"\n",
      "  warnings.warn(msg, FutureWarning)\n",
      "/home/rishibaijal/anaconda3/lib/python3.7/site-packages/statsmodels/tsa/stattools.py:1907: InterpolationWarning: The test statistic is outside of the range of p-values available in the\n",
      "look-up table. The actual p-value is smaller than the p-value returned.\n",
      "\n",
      "  warn_msg.format(direction=\"smaller\"), InterpolationWarning\n"
     ]
    }
   ],
   "source": [
    "is_stat(df[\"detrended_ls\"])"
   ]
  },
  {
   "cell_type": "markdown",
   "id": "previous-amazon",
   "metadata": {},
   "source": [
    "Detrending the time series - Using rolling average\n",
    "---"
   ]
  },
  {
   "cell_type": "code",
   "execution_count": 87,
   "id": "applicable-prisoner",
   "metadata": {},
   "outputs": [
    {
     "data": {
      "text/html": [
       "<div>\n",
       "<style scoped>\n",
       "    .dataframe tbody tr th:only-of-type {\n",
       "        vertical-align: middle;\n",
       "    }\n",
       "\n",
       "    .dataframe tbody tr th {\n",
       "        vertical-align: top;\n",
       "    }\n",
       "\n",
       "    .dataframe thead th {\n",
       "        text-align: right;\n",
       "    }\n",
       "</style>\n",
       "<table border=\"1\" class=\"dataframe\">\n",
       "  <thead>\n",
       "    <tr style=\"text-align: right;\">\n",
       "      <th></th>\n",
       "      <th>Date</th>\n",
       "      <th>US dollar</th>\n",
       "      <th>year</th>\n",
       "      <th>month</th>\n",
       "      <th>detrended_ls</th>\n",
       "      <th>RA</th>\n",
       "      <th>RA_detrend</th>\n",
       "    </tr>\n",
       "  </thead>\n",
       "  <tbody>\n",
       "    <tr>\n",
       "      <th>0</th>\n",
       "      <td>2021-02-12</td>\n",
       "      <td>1814</td>\n",
       "      <td>2021</td>\n",
       "      <td>February</td>\n",
       "      <td>-311.854111</td>\n",
       "      <td>NaN</td>\n",
       "      <td>NaN</td>\n",
       "    </tr>\n",
       "    <tr>\n",
       "      <th>1</th>\n",
       "      <td>2021-02-11</td>\n",
       "      <td>1842</td>\n",
       "      <td>2021</td>\n",
       "      <td>February</td>\n",
       "      <td>-283.723792</td>\n",
       "      <td>NaN</td>\n",
       "      <td>NaN</td>\n",
       "    </tr>\n",
       "    <tr>\n",
       "      <th>2</th>\n",
       "      <td>2021-02-10</td>\n",
       "      <td>1829</td>\n",
       "      <td>2021</td>\n",
       "      <td>February</td>\n",
       "      <td>-296.593474</td>\n",
       "      <td>NaN</td>\n",
       "      <td>NaN</td>\n",
       "    </tr>\n",
       "    <tr>\n",
       "      <th>3</th>\n",
       "      <td>2021-02-09</td>\n",
       "      <td>1811</td>\n",
       "      <td>2021</td>\n",
       "      <td>February</td>\n",
       "      <td>-314.463156</td>\n",
       "      <td>NaN</td>\n",
       "      <td>NaN</td>\n",
       "    </tr>\n",
       "    <tr>\n",
       "      <th>4</th>\n",
       "      <td>2021-02-08</td>\n",
       "      <td>1756</td>\n",
       "      <td>2021</td>\n",
       "      <td>February</td>\n",
       "      <td>-369.332838</td>\n",
       "      <td>NaN</td>\n",
       "      <td>NaN</td>\n",
       "    </tr>\n",
       "  </tbody>\n",
       "</table>\n",
       "</div>"
      ],
      "text/plain": [
       "        Date  US dollar  year     month  detrended_ls  RA  RA_detrend\n",
       "0 2021-02-12       1814  2021  February   -311.854111 NaN         NaN\n",
       "1 2021-02-11       1842  2021  February   -283.723792 NaN         NaN\n",
       "2 2021-02-10       1829  2021  February   -296.593474 NaN         NaN\n",
       "3 2021-02-09       1811  2021  February   -314.463156 NaN         NaN\n",
       "4 2021-02-08       1756  2021  February   -369.332838 NaN         NaN"
      ]
     },
     "execution_count": 87,
     "metadata": {},
     "output_type": "execute_result"
    }
   ],
   "source": [
    "df['RA'] = df[\"US dollar\"].rolling(12).mean()\n",
    "df['RA_detrend'] = df[\"US dollar\"] - df.RA\n",
    "df.head()"
   ]
  },
  {
   "cell_type": "code",
   "execution_count": 89,
   "id": "vocational-circle",
   "metadata": {},
   "outputs": [
    {
     "name": "stdout",
     "output_type": "stream",
     "text": [
      "ADF Statistic: -19.284256619095412\n",
      "p-value: 0.0\n",
      "Critial Values:\n",
      "   1%, -3.4314971586542895\n",
      "Critial Values:\n",
      "   5%, -2.8620469338326067\n",
      "Critial Values:\n",
      "   10%, -2.5670398391281397\n",
      "\n",
      "KPSS Statistic: 0.069942\n",
      "p-value: 0.100000\n",
      "Critial Values:\n",
      "   10%, 0.347\n",
      "Critial Values:\n",
      "   5%, 0.463\n",
      "Critial Values:\n",
      "   2.5%, 0.574\n",
      "Critial Values:\n",
      "   1%, 0.739\n"
     ]
    },
    {
     "name": "stderr",
     "output_type": "stream",
     "text": [
      "/home/rishibaijal/anaconda3/lib/python3.7/site-packages/statsmodels/tsa/stattools.py:1875: FutureWarning: The behavior of using nlags=None will change in release 0.13.Currently nlags=None is the same as nlags=\"legacy\", and so a sample-size lag length is used. After the next release, the default will change to be the same as nlags=\"auto\" which uses an automatic lag length selection method. To silence this warning, either use \"auto\" or \"legacy\"\n",
      "  warnings.warn(msg, FutureWarning)\n",
      "/home/rishibaijal/anaconda3/lib/python3.7/site-packages/statsmodels/tsa/stattools.py:1911: InterpolationWarning: The test statistic is outside of the range of p-values available in the\n",
      "look-up table. The actual p-value is greater than the p-value returned.\n",
      "\n",
      "  warn_msg.format(direction=\"greater\"), InterpolationWarning\n"
     ]
    }
   ],
   "source": [
    "df[\"RA_detrend\"].fillna(df[\"RA_detrend\"].median(), inplace=True)\n",
    "is_stat(df[\"RA_detrend\"])"
   ]
  },
  {
   "cell_type": "markdown",
   "id": "expensive-secretary",
   "metadata": {},
   "source": [
    "Here we see that a rolling average with a 12 month period successfully detrends the series. "
   ]
  },
  {
   "cell_type": "code",
   "execution_count": 91,
   "id": "revised-animation",
   "metadata": {},
   "outputs": [
    {
     "data": {
      "text/plain": [
       "<AxesSubplot:>"
      ]
     },
     "execution_count": 91,
     "metadata": {},
     "output_type": "execute_result"
    },
    {
     "data": {
      "image/png": "[encoded data removed]",
      "text/plain": [
       "<Figure size 360x360 with 1 Axes>"
      ]
     },
     "metadata": {
      "needs_background": "light"
     },
     "output_type": "display_data"
    }
   ],
   "source": [
    "df[\"RA\"].plot()"
   ]
  },
  {
   "cell_type": "code",
   "execution_count": 92,
   "id": "olive-symposium",
   "metadata": {},
   "outputs": [
    {
     "data": {
      "text/plain": [
       "<AxesSubplot:>"
      ]
     },
     "execution_count": 92,
     "metadata": {},
     "output_type": "execute_result"
    },
    {
     "data": {
      "image/png": "[encoded data removed]",
      "text/plain": [
       "<Figure size 360x360 with 1 Axes>"
      ]
     },
     "metadata": {
      "needs_background": "light"
     },
     "output_type": "display_data"
    }
   ],
   "source": [
    "df[\"RA_detrend\"].plot()"
   ]
  },
  {
   "cell_type": "code",
   "execution_count": 93,
   "id": "stock-caribbean",
   "metadata": {},
   "outputs": [
    {
     "data": {
      "text/html": [
       "<div>\n",
       "<style scoped>\n",
       "    .dataframe tbody tr th:only-of-type {\n",
       "        vertical-align: middle;\n",
       "    }\n",
       "\n",
       "    .dataframe tbody tr th {\n",
       "        vertical-align: top;\n",
       "    }\n",
       "\n",
       "    .dataframe thead th {\n",
       "        text-align: right;\n",
       "    }\n",
       "</style>\n",
       "<table border=\"1\" class=\"dataframe\">\n",
       "  <thead>\n",
       "    <tr style=\"text-align: right;\">\n",
       "      <th></th>\n",
       "      <th>Date</th>\n",
       "      <th>US dollar</th>\n",
       "      <th>year</th>\n",
       "      <th>month</th>\n",
       "      <th>detrended_ls</th>\n",
       "      <th>RA</th>\n",
       "      <th>RA_detrend</th>\n",
       "    </tr>\n",
       "  </thead>\n",
       "  <tbody>\n",
       "    <tr>\n",
       "      <th>0</th>\n",
       "      <td>2021-02-12</td>\n",
       "      <td>1814</td>\n",
       "      <td>2021</td>\n",
       "      <td>February</td>\n",
       "      <td>-311.854111</td>\n",
       "      <td>NaN</td>\n",
       "      <td>2.500000</td>\n",
       "    </tr>\n",
       "    <tr>\n",
       "      <th>1</th>\n",
       "      <td>2021-02-11</td>\n",
       "      <td>1842</td>\n",
       "      <td>2021</td>\n",
       "      <td>February</td>\n",
       "      <td>-283.723792</td>\n",
       "      <td>NaN</td>\n",
       "      <td>2.500000</td>\n",
       "    </tr>\n",
       "    <tr>\n",
       "      <th>2</th>\n",
       "      <td>2021-02-10</td>\n",
       "      <td>1829</td>\n",
       "      <td>2021</td>\n",
       "      <td>February</td>\n",
       "      <td>-296.593474</td>\n",
       "      <td>NaN</td>\n",
       "      <td>2.500000</td>\n",
       "    </tr>\n",
       "    <tr>\n",
       "      <th>3</th>\n",
       "      <td>2021-02-09</td>\n",
       "      <td>1811</td>\n",
       "      <td>2021</td>\n",
       "      <td>February</td>\n",
       "      <td>-314.463156</td>\n",
       "      <td>NaN</td>\n",
       "      <td>2.500000</td>\n",
       "    </tr>\n",
       "    <tr>\n",
       "      <th>4</th>\n",
       "      <td>2021-02-08</td>\n",
       "      <td>1756</td>\n",
       "      <td>2021</td>\n",
       "      <td>February</td>\n",
       "      <td>-369.332838</td>\n",
       "      <td>NaN</td>\n",
       "      <td>2.500000</td>\n",
       "    </tr>\n",
       "    <tr>\n",
       "      <th>...</th>\n",
       "      <td>...</td>\n",
       "      <td>...</td>\n",
       "      <td>...</td>\n",
       "      <td>...</td>\n",
       "      <td>...</td>\n",
       "      <td>...</td>\n",
       "      <td>...</td>\n",
       "    </tr>\n",
       "    <tr>\n",
       "      <th>5719</th>\n",
       "      <td>1999-01-08</td>\n",
       "      <td>1501</td>\n",
       "      <td>1999</td>\n",
       "      <td>January</td>\n",
       "      <td>120.435912</td>\n",
       "      <td>1469.750000</td>\n",
       "      <td>31.250000</td>\n",
       "    </tr>\n",
       "    <tr>\n",
       "      <th>5720</th>\n",
       "      <td>1999-01-07</td>\n",
       "      <td>1483</td>\n",
       "      <td>1999</td>\n",
       "      <td>January</td>\n",
       "      <td>102.566231</td>\n",
       "      <td>1472.166667</td>\n",
       "      <td>10.833333</td>\n",
       "    </tr>\n",
       "    <tr>\n",
       "      <th>5721</th>\n",
       "      <td>1999-01-06</td>\n",
       "      <td>1559</td>\n",
       "      <td>1999</td>\n",
       "      <td>January</td>\n",
       "      <td>178.696549</td>\n",
       "      <td>1481.916667</td>\n",
       "      <td>77.083333</td>\n",
       "    </tr>\n",
       "    <tr>\n",
       "      <th>5722</th>\n",
       "      <td>1999-01-05</td>\n",
       "      <td>1598</td>\n",
       "      <td>1999</td>\n",
       "      <td>January</td>\n",
       "      <td>217.826867</td>\n",
       "      <td>1494.666667</td>\n",
       "      <td>103.333333</td>\n",
       "    </tr>\n",
       "    <tr>\n",
       "      <th>5723</th>\n",
       "      <td>1999-01-04</td>\n",
       "      <td>1597</td>\n",
       "      <td>1999</td>\n",
       "      <td>January</td>\n",
       "      <td>216.957185</td>\n",
       "      <td>1507.166667</td>\n",
       "      <td>89.833333</td>\n",
       "    </tr>\n",
       "  </tbody>\n",
       "</table>\n",
       "<p>5724 rows × 7 columns</p>\n",
       "</div>"
      ],
      "text/plain": [
       "           Date  US dollar  year     month  detrended_ls           RA  \\\n",
       "0    2021-02-12       1814  2021  February   -311.854111          NaN   \n",
       "1    2021-02-11       1842  2021  February   -283.723792          NaN   \n",
       "2    2021-02-10       1829  2021  February   -296.593474          NaN   \n",
       "3    2021-02-09       1811  2021  February   -314.463156          NaN   \n",
       "4    2021-02-08       1756  2021  February   -369.332838          NaN   \n",
       "...         ...        ...   ...       ...           ...          ...   \n",
       "5719 1999-01-08       1501  1999   January    120.435912  1469.750000   \n",
       "5720 1999-01-07       1483  1999   January    102.566231  1472.166667   \n",
       "5721 1999-01-06       1559  1999   January    178.696549  1481.916667   \n",
       "5722 1999-01-05       1598  1999   January    217.826867  1494.666667   \n",
       "5723 1999-01-04       1597  1999   January    216.957185  1507.166667   \n",
       "\n",
       "      RA_detrend  \n",
       "0       2.500000  \n",
       "1       2.500000  \n",
       "2       2.500000  \n",
       "3       2.500000  \n",
       "4       2.500000  \n",
       "...          ...  \n",
       "5719   31.250000  \n",
       "5720   10.833333  \n",
       "5721   77.083333  \n",
       "5722  103.333333  \n",
       "5723   89.833333  \n",
       "\n",
       "[5724 rows x 7 columns]"
      ]
     },
     "execution_count": 93,
     "metadata": {},
     "output_type": "execute_result"
    }
   ],
   "source": [
    "df"
   ]
  },
  {
   "cell_type": "markdown",
   "id": "technical-shirt",
   "metadata": {},
   "source": [
    "Detrending by shifting values\n",
    "---"
   ]
  },
  {
   "cell_type": "code",
   "execution_count": 94,
   "id": "buried-minneapolis",
   "metadata": {},
   "outputs": [],
   "source": [
    "df['lag'] = df[\"US dollar\"].shift()\n",
    "df['detrend_lag'] = df[\"US dollar\"] - df[\"lag\"]"
   ]
  },
  {
   "cell_type": "code",
   "execution_count": 100,
   "id": "postal-kelly",
   "metadata": {},
   "outputs": [],
   "source": [
    "df[\"detrend_lag\"].fillna(df[\"detrend_lag\"].median(), inplace=True)"
   ]
  },
  {
   "cell_type": "code",
   "execution_count": 101,
   "id": "starting-postcard",
   "metadata": {},
   "outputs": [
    {
     "data": {
      "text/plain": [
       "<AxesSubplot:>"
      ]
     },
     "execution_count": 101,
     "metadata": {},
     "output_type": "execute_result"
    },
    {
     "data": {
      "image/png": "[encoded data removed]",
      "text/plain": [
       "<Figure size 360x360 with 1 Axes>"
      ]
     },
     "metadata": {
      "needs_background": "light"
     },
     "output_type": "display_data"
    }
   ],
   "source": [
    "df[\"detrend_lag\"].plot()"
   ]
  },
  {
   "cell_type": "code",
   "execution_count": 102,
   "id": "knowing-capital",
   "metadata": {},
   "outputs": [
    {
     "name": "stdout",
     "output_type": "stream",
     "text": [
      "ADF Statistic: -28.445900808495036\n",
      "p-value: 0.0\n",
      "Critial Values:\n",
      "   1%, -3.431496153332666\n",
      "Critial Values:\n",
      "   5%, -2.8620464896627316\n",
      "Critial Values:\n",
      "   10%, -2.567039602683309\n",
      "\n",
      "KPSS Statistic: 0.033943\n",
      "p-value: 0.100000\n",
      "Critial Values:\n",
      "   10%, 0.347\n",
      "Critial Values:\n",
      "   5%, 0.463\n",
      "Critial Values:\n",
      "   2.5%, 0.574\n",
      "Critial Values:\n",
      "   1%, 0.739\n"
     ]
    },
    {
     "name": "stderr",
     "output_type": "stream",
     "text": [
      "/home/rishibaijal/anaconda3/lib/python3.7/site-packages/statsmodels/tsa/stattools.py:1875: FutureWarning: The behavior of using nlags=None will change in release 0.13.Currently nlags=None is the same as nlags=\"legacy\", and so a sample-size lag length is used. After the next release, the default will change to be the same as nlags=\"auto\" which uses an automatic lag length selection method. To silence this warning, either use \"auto\" or \"legacy\"\n",
      "  warnings.warn(msg, FutureWarning)\n",
      "/home/rishibaijal/anaconda3/lib/python3.7/site-packages/statsmodels/tsa/stattools.py:1911: InterpolationWarning: The test statistic is outside of the range of p-values available in the\n",
      "look-up table. The actual p-value is greater than the p-value returned.\n",
      "\n",
      "  warn_msg.format(direction=\"greater\"), InterpolationWarning\n"
     ]
    }
   ],
   "source": [
    "is_stat(df[\"detrend_lag\"])"
   ]
  },
  {
   "cell_type": "markdown",
   "id": "favorite-boards",
   "metadata": {},
   "source": [
    "Again, we see that shifting the data manages to detrend the series successfully. Since there is not much of a \n",
    "seasonal component to this particular time series, detrending will make it stationary. "
   ]
  },
  {
   "cell_type": "code",
   "execution_count": 105,
   "id": "governmental-myanmar",
   "metadata": {},
   "outputs": [
    {
     "data": {
      "text/html": [
       "<div>\n",
       "<style scoped>\n",
       "    .dataframe tbody tr th:only-of-type {\n",
       "        vertical-align: middle;\n",
       "    }\n",
       "\n",
       "    .dataframe tbody tr th {\n",
       "        vertical-align: top;\n",
       "    }\n",
       "\n",
       "    .dataframe thead th {\n",
       "        text-align: right;\n",
       "    }\n",
       "</style>\n",
       "<table border=\"1\" class=\"dataframe\">\n",
       "  <thead>\n",
       "    <tr style=\"text-align: right;\">\n",
       "      <th></th>\n",
       "      <th>US dollar</th>\n",
       "      <th>RA_detrend</th>\n",
       "      <th>detrend_lag</th>\n",
       "    </tr>\n",
       "  </thead>\n",
       "  <tbody>\n",
       "    <tr>\n",
       "      <th>0</th>\n",
       "      <td>1814</td>\n",
       "      <td>2.500000</td>\n",
       "      <td>0.0</td>\n",
       "    </tr>\n",
       "    <tr>\n",
       "      <th>1</th>\n",
       "      <td>1842</td>\n",
       "      <td>2.500000</td>\n",
       "      <td>28.0</td>\n",
       "    </tr>\n",
       "    <tr>\n",
       "      <th>2</th>\n",
       "      <td>1829</td>\n",
       "      <td>2.500000</td>\n",
       "      <td>-13.0</td>\n",
       "    </tr>\n",
       "    <tr>\n",
       "      <th>3</th>\n",
       "      <td>1811</td>\n",
       "      <td>2.500000</td>\n",
       "      <td>-18.0</td>\n",
       "    </tr>\n",
       "    <tr>\n",
       "      <th>4</th>\n",
       "      <td>1756</td>\n",
       "      <td>2.500000</td>\n",
       "      <td>-55.0</td>\n",
       "    </tr>\n",
       "    <tr>\n",
       "      <th>...</th>\n",
       "      <td>...</td>\n",
       "      <td>...</td>\n",
       "      <td>...</td>\n",
       "    </tr>\n",
       "    <tr>\n",
       "      <th>5719</th>\n",
       "      <td>1501</td>\n",
       "      <td>31.250000</td>\n",
       "      <td>58.0</td>\n",
       "    </tr>\n",
       "    <tr>\n",
       "      <th>5720</th>\n",
       "      <td>1483</td>\n",
       "      <td>10.833333</td>\n",
       "      <td>-18.0</td>\n",
       "    </tr>\n",
       "    <tr>\n",
       "      <th>5721</th>\n",
       "      <td>1559</td>\n",
       "      <td>77.083333</td>\n",
       "      <td>76.0</td>\n",
       "    </tr>\n",
       "    <tr>\n",
       "      <th>5722</th>\n",
       "      <td>1598</td>\n",
       "      <td>103.333333</td>\n",
       "      <td>39.0</td>\n",
       "    </tr>\n",
       "    <tr>\n",
       "      <th>5723</th>\n",
       "      <td>1597</td>\n",
       "      <td>89.833333</td>\n",
       "      <td>-1.0</td>\n",
       "    </tr>\n",
       "  </tbody>\n",
       "</table>\n",
       "<p>5724 rows × 3 columns</p>\n",
       "</div>"
      ],
      "text/plain": [
       "      US dollar  RA_detrend  detrend_lag\n",
       "0          1814    2.500000          0.0\n",
       "1          1842    2.500000         28.0\n",
       "2          1829    2.500000        -13.0\n",
       "3          1811    2.500000        -18.0\n",
       "4          1756    2.500000        -55.0\n",
       "...         ...         ...          ...\n",
       "5719       1501   31.250000         58.0\n",
       "5720       1483   10.833333        -18.0\n",
       "5721       1559   77.083333         76.0\n",
       "5722       1598  103.333333         39.0\n",
       "5723       1597   89.833333         -1.0\n",
       "\n",
       "[5724 rows x 3 columns]"
      ]
     },
     "execution_count": 105,
     "metadata": {},
     "output_type": "execute_result"
    }
   ],
   "source": [
    "df[[\"US dollar\", \"RA_detrend\",  \"detrend_lag\"]]"
   ]
  },
  {
   "cell_type": "code",
   "execution_count": 106,
   "id": "sapphire-header",
   "metadata": {},
   "outputs": [
    {
     "data": {
      "text/html": [
       "<div>\n",
       "<style scoped>\n",
       "    .dataframe tbody tr th:only-of-type {\n",
       "        vertical-align: middle;\n",
       "    }\n",
       "\n",
       "    .dataframe tbody tr th {\n",
       "        vertical-align: top;\n",
       "    }\n",
       "\n",
       "    .dataframe thead th {\n",
       "        text-align: right;\n",
       "    }\n",
       "</style>\n",
       "<table border=\"1\" class=\"dataframe\">\n",
       "  <thead>\n",
       "    <tr style=\"text-align: right;\">\n",
       "      <th></th>\n",
       "      <th>Date</th>\n",
       "      <th>US dollar</th>\n",
       "      <th>year</th>\n",
       "      <th>month</th>\n",
       "      <th>detrended_ls</th>\n",
       "      <th>RA</th>\n",
       "      <th>RA_detrend</th>\n",
       "      <th>lag</th>\n",
       "      <th>detrend_lag</th>\n",
       "    </tr>\n",
       "  </thead>\n",
       "  <tbody>\n",
       "    <tr>\n",
       "      <th>0</th>\n",
       "      <td>2021-02-12</td>\n",
       "      <td>1814</td>\n",
       "      <td>2021</td>\n",
       "      <td>February</td>\n",
       "      <td>-311.854111</td>\n",
       "      <td>NaN</td>\n",
       "      <td>2.500000</td>\n",
       "      <td>NaN</td>\n",
       "      <td>0.0</td>\n",
       "    </tr>\n",
       "    <tr>\n",
       "      <th>1</th>\n",
       "      <td>2021-02-11</td>\n",
       "      <td>1842</td>\n",
       "      <td>2021</td>\n",
       "      <td>February</td>\n",
       "      <td>-283.723792</td>\n",
       "      <td>NaN</td>\n",
       "      <td>2.500000</td>\n",
       "      <td>1814.0</td>\n",
       "      <td>28.0</td>\n",
       "    </tr>\n",
       "    <tr>\n",
       "      <th>2</th>\n",
       "      <td>2021-02-10</td>\n",
       "      <td>1829</td>\n",
       "      <td>2021</td>\n",
       "      <td>February</td>\n",
       "      <td>-296.593474</td>\n",
       "      <td>NaN</td>\n",
       "      <td>2.500000</td>\n",
       "      <td>1842.0</td>\n",
       "      <td>-13.0</td>\n",
       "    </tr>\n",
       "    <tr>\n",
       "      <th>3</th>\n",
       "      <td>2021-02-09</td>\n",
       "      <td>1811</td>\n",
       "      <td>2021</td>\n",
       "      <td>February</td>\n",
       "      <td>-314.463156</td>\n",
       "      <td>NaN</td>\n",
       "      <td>2.500000</td>\n",
       "      <td>1829.0</td>\n",
       "      <td>-18.0</td>\n",
       "    </tr>\n",
       "    <tr>\n",
       "      <th>4</th>\n",
       "      <td>2021-02-08</td>\n",
       "      <td>1756</td>\n",
       "      <td>2021</td>\n",
       "      <td>February</td>\n",
       "      <td>-369.332838</td>\n",
       "      <td>NaN</td>\n",
       "      <td>2.500000</td>\n",
       "      <td>1811.0</td>\n",
       "      <td>-55.0</td>\n",
       "    </tr>\n",
       "    <tr>\n",
       "      <th>...</th>\n",
       "      <td>...</td>\n",
       "      <td>...</td>\n",
       "      <td>...</td>\n",
       "      <td>...</td>\n",
       "      <td>...</td>\n",
       "      <td>...</td>\n",
       "      <td>...</td>\n",
       "      <td>...</td>\n",
       "      <td>...</td>\n",
       "    </tr>\n",
       "    <tr>\n",
       "      <th>5719</th>\n",
       "      <td>1999-01-08</td>\n",
       "      <td>1501</td>\n",
       "      <td>1999</td>\n",
       "      <td>January</td>\n",
       "      <td>120.435912</td>\n",
       "      <td>1469.750000</td>\n",
       "      <td>31.250000</td>\n",
       "      <td>1443.0</td>\n",
       "      <td>58.0</td>\n",
       "    </tr>\n",
       "    <tr>\n",
       "      <th>5720</th>\n",
       "      <td>1999-01-07</td>\n",
       "      <td>1483</td>\n",
       "      <td>1999</td>\n",
       "      <td>January</td>\n",
       "      <td>102.566231</td>\n",
       "      <td>1472.166667</td>\n",
       "      <td>10.833333</td>\n",
       "      <td>1501.0</td>\n",
       "      <td>-18.0</td>\n",
       "    </tr>\n",
       "    <tr>\n",
       "      <th>5721</th>\n",
       "      <td>1999-01-06</td>\n",
       "      <td>1559</td>\n",
       "      <td>1999</td>\n",
       "      <td>January</td>\n",
       "      <td>178.696549</td>\n",
       "      <td>1481.916667</td>\n",
       "      <td>77.083333</td>\n",
       "      <td>1483.0</td>\n",
       "      <td>76.0</td>\n",
       "    </tr>\n",
       "    <tr>\n",
       "      <th>5722</th>\n",
       "      <td>1999-01-05</td>\n",
       "      <td>1598</td>\n",
       "      <td>1999</td>\n",
       "      <td>January</td>\n",
       "      <td>217.826867</td>\n",
       "      <td>1494.666667</td>\n",
       "      <td>103.333333</td>\n",
       "      <td>1559.0</td>\n",
       "      <td>39.0</td>\n",
       "    </tr>\n",
       "    <tr>\n",
       "      <th>5723</th>\n",
       "      <td>1999-01-04</td>\n",
       "      <td>1597</td>\n",
       "      <td>1999</td>\n",
       "      <td>January</td>\n",
       "      <td>216.957185</td>\n",
       "      <td>1507.166667</td>\n",
       "      <td>89.833333</td>\n",
       "      <td>1598.0</td>\n",
       "      <td>-1.0</td>\n",
       "    </tr>\n",
       "  </tbody>\n",
       "</table>\n",
       "<p>5724 rows × 9 columns</p>\n",
       "</div>"
      ],
      "text/plain": [
       "           Date  US dollar  year     month  detrended_ls           RA  \\\n",
       "0    2021-02-12       1814  2021  February   -311.854111          NaN   \n",
       "1    2021-02-11       1842  2021  February   -283.723792          NaN   \n",
       "2    2021-02-10       1829  2021  February   -296.593474          NaN   \n",
       "3    2021-02-09       1811  2021  February   -314.463156          NaN   \n",
       "4    2021-02-08       1756  2021  February   -369.332838          NaN   \n",
       "...         ...        ...   ...       ...           ...          ...   \n",
       "5719 1999-01-08       1501  1999   January    120.435912  1469.750000   \n",
       "5720 1999-01-07       1483  1999   January    102.566231  1472.166667   \n",
       "5721 1999-01-06       1559  1999   January    178.696549  1481.916667   \n",
       "5722 1999-01-05       1598  1999   January    217.826867  1494.666667   \n",
       "5723 1999-01-04       1597  1999   January    216.957185  1507.166667   \n",
       "\n",
       "      RA_detrend     lag  detrend_lag  \n",
       "0       2.500000     NaN          0.0  \n",
       "1       2.500000  1814.0         28.0  \n",
       "2       2.500000  1842.0        -13.0  \n",
       "3       2.500000  1829.0        -18.0  \n",
       "4       2.500000  1811.0        -55.0  \n",
       "...          ...     ...          ...  \n",
       "5719   31.250000  1443.0         58.0  \n",
       "5720   10.833333  1501.0        -18.0  \n",
       "5721   77.083333  1483.0         76.0  \n",
       "5722  103.333333  1559.0         39.0  \n",
       "5723   89.833333  1598.0         -1.0  \n",
       "\n",
       "[5724 rows x 9 columns]"
      ]
     },
     "execution_count": 106,
     "metadata": {},
     "output_type": "execute_result"
    }
   ],
   "source": [
    "df"
   ]
  },
  {
   "cell_type": "markdown",
   "id": "foster-appearance",
   "metadata": {},
   "source": [
    "Prediction using ARIMA\n",
    "---"
   ]
  },
  {
   "cell_type": "code",
   "execution_count": 120,
   "id": "former-dairy",
   "metadata": {},
   "outputs": [
    {
     "name": "stdout",
     "output_type": "stream",
     "text": [
      "                               SARIMAX Results                                \n",
      "==============================================================================\n",
      "Dep. Variable:              US dollar   No. Observations:                 5724\n",
      "Model:                 ARIMA(5, 1, 0)   Log Likelihood              -39265.223\n",
      "Date:                Sat, 27 Feb 2021   AIC                          78542.446\n",
      "Time:                        11:43:04   BIC                          78582.359\n",
      "Sample:                             0   HQIC                         78556.340\n",
      "                               - 5724                                         \n",
      "Covariance Type:                  opg                                         \n",
      "==============================================================================\n",
      "                 coef    std err          z      P>|z|      [0.025      0.975]\n",
      "------------------------------------------------------------------------------\n",
      "ar.L1         -0.4737      0.003   -173.247      0.000      -0.479      -0.468\n",
      "ar.L2         -0.4950      0.004   -124.614      0.000      -0.503      -0.487\n",
      "ar.L3         -0.3615      0.005    -69.969      0.000      -0.372      -0.351\n",
      "ar.L4         -0.1961      0.005    -41.444      0.000      -0.205      -0.187\n",
      "ar.L5         -0.0192      0.005     -4.042      0.000      -0.029      -0.010\n",
      "sigma2      5.336e+04    146.918    363.175      0.000    5.31e+04    5.36e+04\n",
      "===================================================================================\n",
      "Ljung-Box (L1) (Q):                   0.05   Jarque-Bera (JB):           2224861.07\n",
      "Prob(Q):                              0.83   Prob(JB):                         0.00\n",
      "Heteroskedasticity (H):               8.97   Skew:                            -6.00\n",
      "Prob(H) (two-sided):                  0.00   Kurtosis:                        98.84\n",
      "===================================================================================\n",
      "\n",
      "Warnings:\n",
      "[1] Covariance matrix calculated using the outer product of gradients (complex-step).\n"
     ]
    }
   ],
   "source": [
    "from statsmodels.tsa.arima.model import ARIMA\n",
    "model=ARIMA(df[\"US dollar\"], order=(5,1,0))\n",
    "model_fit_1 = model.fit()\n",
    "print(model_fit_1.summary())"
   ]
  },
  {
   "cell_type": "code",
   "execution_count": 121,
   "id": "animal-carbon",
   "metadata": {},
   "outputs": [
    {
     "data": {
      "text/plain": [
       "<Figure size 1152x864 with 0 Axes>"
      ]
     },
     "metadata": {},
     "output_type": "display_data"
    },
    {
     "data": {
      "image/png": "[encoded data removed]",
      "text/plain": [
       "<Figure size 360x360 with 1 Axes>"
      ]
     },
     "metadata": {
      "needs_background": "light"
     },
     "output_type": "display_data"
    }
   ],
   "source": [
    "plt.figure(figsize=(16, 12))\n",
    "residuals=pd.DataFrame(model_fit_1.resid)\n",
    "residuals.plot()\n",
    "plt.show()"
   ]
  },
  {
   "cell_type": "code",
   "execution_count": 122,
   "id": "maritime-allergy",
   "metadata": {},
   "outputs": [
    {
     "data": {
      "image/png": "[encoded data removed]",
      "text/plain": [
       "<Figure size 360x360 with 1 Axes>"
      ]
     },
     "metadata": {
      "needs_background": "light"
     },
     "output_type": "display_data"
    }
   ],
   "source": [
    "residuals.plot(kind='kde')\n",
    "plt.show()"
   ]
  },
  {
   "cell_type": "code",
   "execution_count": 123,
   "id": "useful-skiing",
   "metadata": {},
   "outputs": [
    {
     "name": "stdout",
     "output_type": "stream",
     "text": [
      "                 0\n",
      "count  5724.000000\n",
      "mean      0.224516\n",
      "std     232.135484\n",
      "min   -3489.358709\n",
      "25%     -32.938032\n",
      "50%       0.504815\n",
      "75%      34.957554\n",
      "max    1827.820816\n"
     ]
    }
   ],
   "source": [
    "print(residuals.describe())"
   ]
  },
  {
   "cell_type": "code",
   "execution_count": 124,
   "id": "complimentary-alert",
   "metadata": {},
   "outputs": [
    {
     "name": "stderr",
     "output_type": "stream",
     "text": [
      "/home/rishibaijal/anaconda3/lib/python3.7/site-packages/statsmodels/tsa/statespace/sarimax.py:978: UserWarning: Non-invertible starting MA parameters found. Using zeros as starting parameters.\n",
      "  warn('Non-invertible starting MA parameters found.'\n",
      "/home/rishibaijal/anaconda3/lib/python3.7/site-packages/statsmodels/base/model.py:568: ConvergenceWarning: Maximum Likelihood optimization failed to converge. Check mle_retvals\n",
      "  ConvergenceWarning)\n"
     ]
    },
    {
     "name": "stdout",
     "output_type": "stream",
     "text": [
      "                               SARIMAX Results                                \n",
      "==============================================================================\n",
      "Dep. Variable:              US dollar   No. Observations:                 5724\n",
      "Model:                 ARIMA(2, 3, 2)   Log Likelihood              -39596.631\n",
      "Date:                Sat, 27 Feb 2021   AIC                          79203.262\n",
      "Time:                        11:43:35   BIC                          79236.522\n",
      "Sample:                             0   HQIC                         79214.840\n",
      "                               - 5724                                         \n",
      "Covariance Type:                  opg                                         \n",
      "==============================================================================\n",
      "                 coef    std err          z      P>|z|      [0.025      0.975]\n",
      "------------------------------------------------------------------------------\n",
      "ar.L1         -0.3301      0.003   -129.632      0.000      -0.335      -0.325\n",
      "ar.L2         -0.3204      0.003   -122.246      0.000      -0.326      -0.315\n",
      "ma.L1         -1.9991      0.001  -2327.494      0.000      -2.001      -1.997\n",
      "ma.L2          0.9991      0.001   1163.275      0.000       0.997       1.001\n",
      "sigma2      5.964e+04   8.92e-09   6.69e+12      0.000    5.96e+04    5.96e+04\n",
      "===================================================================================\n",
      "Ljung-Box (L1) (Q):                  43.81   Jarque-Bera (JB):           2163427.87\n",
      "Prob(Q):                              0.00   Prob(JB):                         0.00\n",
      "Heteroskedasticity (H):              12.57   Skew:                            -4.37\n",
      "Prob(H) (two-sided):                  0.00   Kurtosis:                        97.86\n",
      "===================================================================================\n",
      "\n",
      "Warnings:\n",
      "[1] Covariance matrix calculated using the outer product of gradients (complex-step).\n",
      "[2] Covariance matrix is singular or near-singular, with condition number 2.11e+26. Standard errors may be unstable.\n"
     ]
    }
   ],
   "source": [
    "model=ARIMA(df[\"US dollar\"], order=(2,3,2))\n",
    "model_fit_2 = model.fit()\n",
    "print(model_fit_2.summary())"
   ]
  },
  {
   "cell_type": "code",
   "execution_count": 125,
   "id": "educational-information",
   "metadata": {},
   "outputs": [
    {
     "data": {
      "text/plain": [
       "<Figure size 1152x864 with 0 Axes>"
      ]
     },
     "metadata": {},
     "output_type": "display_data"
    },
    {
     "data": {
      "image/png": "[encoded data removed]",
      "text/plain": [
       "<Figure size 360x360 with 1 Axes>"
      ]
     },
     "metadata": {
      "needs_background": "light"
     },
     "output_type": "display_data"
    }
   ],
   "source": [
    "plt.figure(figsize=(16, 12))\n",
    "residuals=pd.DataFrame(model_fit_2.resid)\n",
    "residuals.plot()\n",
    "plt.show()"
   ]
  },
  {
   "cell_type": "code",
   "execution_count": 126,
   "id": "acute-travel",
   "metadata": {},
   "outputs": [
    {
     "data": {
      "image/png": "[encoded data removed]",
      "text/plain": [
       "<Figure size 360x360 with 1 Axes>"
      ]
     },
     "metadata": {
      "needs_background": "light"
     },
     "output_type": "display_data"
    }
   ],
   "source": [
    "residuals.plot(kind='kde')\n",
    "plt.show()"
   ]
  },
  {
   "cell_type": "code",
   "execution_count": 127,
   "id": "faced-fourth",
   "metadata": {},
   "outputs": [
    {
     "name": "stdout",
     "output_type": "stream",
     "text": [
      "                 0\n",
      "count  5724.000000\n",
      "mean      0.302403\n",
      "std     247.206247\n",
      "min   -3476.183367\n",
      "25%     -27.203959\n",
      "50%       0.403284\n",
      "75%      29.096469\n",
      "max    2340.659658\n"
     ]
    }
   ],
   "source": [
    "print(residuals.describe())"
   ]
  },
  {
   "cell_type": "markdown",
   "id": "upset-membership",
   "metadata": {},
   "source": [
    "ARIMA walk forward\n",
    "---"
   ]
  },
  {
   "cell_type": "code",
   "execution_count": 131,
   "id": "crazy-province",
   "metadata": {},
   "outputs": [],
   "source": [
    "X=df[\"US dollar\"]"
   ]
  },
  {
   "cell_type": "code",
   "execution_count": 149,
   "id": "korean-seafood",
   "metadata": {},
   "outputs": [],
   "source": [
    "size = int(len(X) * 0.97)\n",
    "train, test = X[0:size], X[size:len(X)]\n",
    "history = [x for x in train]\n",
    "predictions = list()"
   ]
  },
  {
   "cell_type": "code",
   "execution_count": 150,
   "id": "martial-guyana",
   "metadata": {},
   "outputs": [
    {
     "name": "stdout",
     "output_type": "stream",
     "text": [
      "172\n"
     ]
    }
   ],
   "source": [
    "print(len(test))"
   ]
  },
  {
   "cell_type": "code",
   "execution_count": 151,
   "id": "respected-confirmation",
   "metadata": {},
   "outputs": [
    {
     "name": "stdout",
     "output_type": "stream",
     "text": [
      "[755.9766843747041] <class 'list'>\n",
      "predicted=1597.070911, expected=732.000000\n",
      "[752.6436631634807] <class 'list'>\n",
      "predicted=1597.070911, expected=684.000000\n",
      "[731.8468055859713] <class 'list'>\n",
      "predicted=1597.070911, expected=681.000000\n",
      "[721.4462073619993] <class 'list'>\n",
      "predicted=1597.070911, expected=682.000000\n",
      "[706.052399369176] <class 'list'>\n",
      "predicted=1597.070911, expected=673.000000\n",
      "[687.802270656254] <class 'list'>\n",
      "predicted=1597.070911, expected=704.000000\n",
      "[694.9214937328836] <class 'list'>\n",
      "predicted=1597.070911, expected=754.000000\n",
      "[718.043073180138] <class 'list'>\n",
      "predicted=1597.070911, expected=791.000000\n",
      "[739.1960361494638] <class 'list'>\n",
      "predicted=1597.070911, expected=708.000000\n",
      "[705.0010933912505] <class 'list'>\n",
      "predicted=1597.070911, expected=708.000000\n",
      "[725.303263534284] <class 'list'>\n",
      "predicted=1597.070911, expected=711.000000\n",
      "[731.3844621059724] <class 'list'>\n",
      "predicted=1597.070911, expected=721.000000\n",
      "[730.3660629797787] <class 'list'>\n",
      "predicted=1597.070911, expected=791.000000\n",
      "[753.3777964938428] <class 'list'>\n",
      "predicted=1597.070911, expected=773.000000\n",
      "[742.6322200847742] <class 'list'>\n",
      "predicted=1597.070911, expected=792.000000\n",
      "[764.5366653590465] <class 'list'>\n",
      "predicted=1597.070911, expected=839.000000\n",
      "[799.8553254052157] <class 'list'>\n",
      "predicted=1597.070911, expected=816.000000\n",
      "[798.9086911020757] <class 'list'>\n",
      "predicted=1597.070911, expected=841.000000\n",
      "[820.1398700991328] <class 'list'>\n",
      "predicted=1597.070911, expected=873.000000\n",
      "[844.1535617920821] <class 'list'>\n",
      "predicted=1597.070911, expected=854.000000\n",
      "[841.705524422048] <class 'list'>\n",
      "predicted=1597.070911, expected=777.000000\n",
      "[806.8796845507526] <class 'list'>\n",
      "predicted=1597.070911, expected=789.000000\n",
      "[821.5713019484156] <class 'list'>\n",
      "predicted=1597.070911, expected=812.000000\n",
      "[826.1374045427067] <class 'list'>\n",
      "predicted=1597.070911, expected=800.000000\n",
      "[805.4538190996877] <class 'list'>\n",
      "predicted=1597.070911, expected=751.000000\n",
      "[770.9980944034486] <class 'list'>\n",
      "predicted=1597.070911, expected=764.000000\n",
      "[781.7086641000922] <class 'list'>\n",
      "predicted=1597.070911, expected=813.000000\n",
      "[802.9725144923011] <class 'list'>\n",
      "predicted=1597.070911, expected=697.000000\n",
      "[732.8860176454325] <class 'list'>\n",
      "predicted=1597.070911, expected=698.000000\n",
      "[735.6720159850241] <class 'list'>\n",
      "predicted=1597.070911, expected=686.000000\n",
      "[723.3101167291277] <class 'list'>\n",
      "predicted=1597.070911, expected=665.000000\n",
      "[702.3872649464249] <class 'list'>\n",
      "predicted=1597.070911, expected=601.000000\n",
      "[648.1598784144792] <class 'list'>\n",
      "predicted=1597.070911, expected=609.000000\n",
      "[646.8600247893119] <class 'list'>\n",
      "predicted=1597.070911, expected=608.000000\n",
      "[632.0365473809259] <class 'list'>\n",
      "predicted=1597.070911, expected=603.000000\n",
      "[615.9525451846748] <class 'list'>\n",
      "predicted=1597.070911, expected=606.000000\n",
      "[607.0890535250601] <class 'list'>\n",
      "predicted=1597.070911, expected=593.000000\n",
      "[599.5286001959615] <class 'list'>\n",
      "predicted=1597.070911, expected=610.000000\n",
      "[608.2964258527089] <class 'list'>\n",
      "predicted=1597.070911, expected=605.000000\n",
      "[603.1608008662761] <class 'list'>\n",
      "predicted=1597.070911, expected=614.000000\n",
      "[608.5520879450993] <class 'list'>\n",
      "predicted=1597.070911, expected=613.000000\n",
      "[607.7372858067445] <class 'list'>\n",
      "predicted=1597.070911, expected=617.000000\n",
      "[612.9930095089791] <class 'list'>\n",
      "predicted=1597.070911, expected=621.000000\n",
      "[615.8122884656577] <class 'list'>\n",
      "predicted=1597.070911, expected=624.000000\n",
      "[619.1691721879926] <class 'list'>\n",
      "predicted=1597.070911, expected=641.000000\n",
      "[629.2383027333431] <class 'list'>\n",
      "predicted=1597.070911, expected=648.000000\n",
      "[634.3078754937773] <class 'list'>\n",
      "predicted=1597.070911, expected=657.000000\n",
      "[642.4434093419187] <class 'list'>\n",
      "predicted=1597.070911, expected=677.000000\n",
      "[657.1254554693428] <class 'list'>\n",
      "predicted=1597.070911, expected=640.000000\n",
      "[642.6710555640103] <class 'list'>\n",
      "predicted=1597.070911, expected=628.000000\n",
      "[642.8797752615054] <class 'list'>\n",
      "predicted=1597.070911, expected=637.000000\n",
      "[647.9673408887081] <class 'list'>\n",
      "predicted=1597.070911, expected=643.000000\n",
      "[646.9196312707733] <class 'list'>\n",
      "predicted=1597.070911, expected=657.000000\n",
      "[647.2073637525252] <class 'list'>\n",
      "predicted=1597.070911, expected=644.000000\n",
      "[639.5203863571529] <class 'list'>\n",
      "predicted=1597.070911, expected=646.000000\n",
      "[645.071885517832] <class 'list'>\n",
      "predicted=1597.070911, expected=658.000000\n",
      "[653.1576318348408] <class 'list'>\n",
      "predicted=1597.070911, expected=675.000000\n",
      "[662.5513023118245] <class 'list'>\n",
      "predicted=1597.070911, expected=690.000000\n",
      "[669.9801705589508] <class 'list'>\n",
      "predicted=1597.070911, expected=690.000000\n",
      "[674.0178600104107] <class 'list'>\n",
      "predicted=1597.070911, expected=688.000000\n",
      "[679.9459981314136] <class 'list'>\n",
      "predicted=1597.070911, expected=656.000000\n",
      "[668.8870176382447] <class 'list'>\n",
      "predicted=1597.070911, expected=639.000000\n",
      "[663.3489144232733] <class 'list'>\n",
      "predicted=1597.070911, expected=638.000000\n",
      "[658.873279969857] <class 'list'>\n",
      "predicted=1597.070911, expected=655.000000\n",
      "[659.9137507673598] <class 'list'>\n",
      "predicted=1597.070911, expected=655.000000\n",
      "[650.900157964308] <class 'list'>\n",
      "predicted=1597.070911, expected=674.000000\n",
      "[659.3643683917345] <class 'list'>\n",
      "predicted=1597.070911, expected=685.000000\n",
      "[667.0497108581028] <class 'list'>\n",
      "predicted=1597.070911, expected=692.000000\n",
      "[676.0230323422552] <class 'list'>\n",
      "predicted=1597.070911, expected=689.000000\n",
      "[679.2398861456576] <class 'list'>\n",
      "predicted=1597.070911, expected=714.000000\n",
      "[698.5689137785595] <class 'list'>\n",
      "predicted=1597.070911, expected=764.000000\n",
      "[727.403153065683] <class 'list'>\n",
      "predicted=1597.070911, expected=740.000000\n",
      "[718.0105406992542] <class 'list'>\n",
      "predicted=1597.070911, expected=731.000000\n",
      "[724.2084504947048] <class 'list'>\n",
      "predicted=1597.070911, expected=774.000000\n",
      "[756.4507237781459] <class 'list'>\n",
      "predicted=1597.070911, expected=770.000000\n",
      "[757.5927288206211] <class 'list'>\n",
      "predicted=1597.070911, expected=809.000000\n",
      "[779.1611217604633] <class 'list'>\n",
      "predicted=1597.070911, expected=805.000000\n",
      "[780.7497745299015] <class 'list'>\n",
      "predicted=1597.070911, expected=796.000000\n",
      "[788.0853058153127] <class 'list'>\n",
      "predicted=1597.070911, expected=762.000000\n",
      "[776.4441912104003] <class 'list'>\n",
      "predicted=1597.070911, expected=777.000000\n",
      "[790.0196782923376] <class 'list'>\n",
      "predicted=1597.070911, expected=836.000000\n",
      "[814.7456083540353] <class 'list'>\n",
      "predicted=1597.070911, expected=838.000000\n",
      "[809.2440095450469] <class 'list'>\n",
      "predicted=1597.070911, expected=869.000000\n",
      "[829.6710067267961] <class 'list'>\n",
      "predicted=1597.070911, expected=878.000000\n",
      "[845.7707825402001] <class 'list'>\n",
      "predicted=1597.070911, expected=791.000000\n",
      "[815.0315545239836] <class 'list'>\n",
      "predicted=1597.070911, expected=727.000000\n",
      "[791.0612379598296] <class 'list'>\n",
      "predicted=1597.070911, expected=744.000000\n",
      "[796.7659253486012] <class 'list'>\n",
      "predicted=1597.070911, expected=748.000000\n",
      "[777.7582335972944] <class 'list'>\n",
      "predicted=1597.070911, expected=752.000000\n",
      "[756.23002881906] <class 'list'>\n",
      "predicted=1597.070911, expected=790.000000\n",
      "[766.4597398371491] <class 'list'>\n",
      "predicted=1597.070911, expected=766.000000\n",
      "[755.9883209760097] <class 'list'>\n",
      "predicted=1597.070911, expected=759.000000\n",
      "[759.5929390252325] <class 'list'>\n",
      "predicted=1597.070911, expected=770.000000\n",
      "[769.3965900210674] <class 'list'>\n",
      "predicted=1597.070911, expected=738.000000\n",
      "[754.2304254505174] <class 'list'>\n",
      "predicted=1597.070911, expected=741.000000\n",
      "[753.2917079728109] <class 'list'>\n",
      "predicted=1597.070911, expected=778.000000\n",
      "[768.5287544372123] <class 'list'>\n",
      "predicted=1597.070911, expected=772.000000\n",
      "[761.5002403225087] <class 'list'>\n",
      "predicted=1597.070911, expected=792.000000\n",
      "[772.1330517969947] <class 'list'>\n",
      "predicted=1597.070911, expected=869.000000\n",
      "[817.43306783745] <class 'list'>\n",
      "predicted=1597.070911, expected=870.000000\n",
      "[824.6019446503177] <class 'list'>\n",
      "predicted=1597.070911, expected=858.000000\n",
      "[831.517737845771] <class 'list'>\n",
      "predicted=1597.070911, expected=922.000000\n",
      "[881.7336855074578] <class 'list'>\n",
      "predicted=1597.070911, expected=864.000000\n",
      "[862.4412775609923] <class 'list'>\n",
      "predicted=1597.070911, expected=891.000000\n",
      "[886.1120032953728] <class 'list'>\n",
      "predicted=1597.070911, expected=886.000000\n",
      "[883.6454413445263] <class 'list'>\n",
      "predicted=1597.070911, expected=831.000000\n"
     ]
    },
    {
     "name": "stdout",
     "output_type": "stream",
     "text": [
      "[859.9294087141045] <class 'list'>\n",
      "predicted=1597.070911, expected=848.000000\n",
      "[864.8188751440362] <class 'list'>\n",
      "predicted=1597.070911, expected=859.000000\n",
      "[865.7229660798814] <class 'list'>\n",
      "predicted=1597.070911, expected=859.000000\n",
      "[858.2987430177301] <class 'list'>\n",
      "predicted=1597.070911, expected=843.000000\n",
      "[844.3331130578957] <class 'list'>\n",
      "predicted=1597.070911, expected=819.000000\n",
      "[835.8128684833073] <class 'list'>\n",
      "predicted=1597.070911, expected=811.000000\n",
      "[832.2571416913305] <class 'list'>\n",
      "predicted=1597.070911, expected=889.000000\n",
      "[867.8138338539875] <class 'list'>\n",
      "predicted=1597.070911, expected=946.000000\n",
      "[888.2594590761913] <class 'list'>\n",
      "predicted=1597.070911, expected=967.000000\n",
      "[902.6248443238397] <class 'list'>\n",
      "predicted=1597.070911, expected=945.000000\n",
      "[909.2396642162067] <class 'list'>\n",
      "predicted=1597.070911, expected=920.000000\n",
      "[922.4426361069096] <class 'list'>\n",
      "predicted=1597.070911, expected=958.000000\n",
      "[955.1020638983078] <class 'list'>\n",
      "predicted=1597.070911, expected=1035.000000\n",
      "[992.6382067650236] <class 'list'>\n",
      "predicted=1597.070911, expected=998.000000\n",
      "[968.9843986384477] <class 'list'>\n",
      "predicted=1597.070911, expected=948.000000\n",
      "[955.1909970799613] <class 'list'>\n",
      "predicted=1597.070911, expected=984.000000\n",
      "[989.2334998728088] <class 'list'>\n",
      "predicted=1597.070911, expected=970.000000\n",
      "[982.6671802601861] <class 'list'>\n",
      "predicted=1597.070911, expected=940.000000\n",
      "[958.6652200922387] <class 'list'>\n",
      "predicted=1597.070911, expected=988.000000\n",
      "[979.073441347395] <class 'list'>\n",
      "predicted=1597.070911, expected=919.000000\n",
      "[940.8351036099158] <class 'list'>\n",
      "predicted=1597.070911, expected=954.000000\n",
      "[960.3847075843199] <class 'list'>\n",
      "predicted=1597.070911, expected=898.000000\n",
      "[923.3270843488274] <class 'list'>\n",
      "predicted=1597.070911, expected=921.000000\n",
      "[937.7927511681332] <class 'list'>\n",
      "predicted=1597.070911, expected=947.000000\n",
      "[938.0071997875222] <class 'list'>\n",
      "predicted=1597.070911, expected=937.000000\n",
      "[930.8589485649549] <class 'list'>\n",
      "predicted=1597.070911, expected=1016.000000\n",
      "[970.6681332537541] <class 'list'>\n",
      "predicted=1597.070911, expected=1041.000000\n",
      "[988.087475896666] <class 'list'>\n",
      "predicted=1597.070911, expected=1052.000000\n",
      "[1007.2858882141923] <class 'list'>\n",
      "predicted=1597.070911, expected=1058.000000\n",
      "[1025.3480925204235] <class 'list'>\n",
      "predicted=1597.070911, expected=1001.000000\n",
      "[1014.6284080116994] <class 'list'>\n",
      "predicted=1597.070911, expected=1019.000000\n",
      "[1033.8856784543177] <class 'list'>\n",
      "predicted=1597.070911, expected=1156.000000\n",
      "[1101.3798572671258] <class 'list'>\n",
      "predicted=1597.070911, expected=1215.000000\n",
      "[1123.7498145263671] <class 'list'>\n",
      "predicted=1597.070911, expected=1233.000000\n",
      "[1143.267758620943] <class 'list'>\n",
      "predicted=1597.070911, expected=1168.000000\n",
      "[1141.3081081430007] <class 'list'>\n",
      "predicted=1597.070911, expected=1221.000000\n",
      "[1207.3412368055665] <class 'list'>\n",
      "predicted=1597.070911, expected=1226.000000\n",
      "[1216.2234271419734] <class 'list'>\n",
      "predicted=1597.070911, expected=1285.000000\n",
      "[1247.8086244310214] <class 'list'>\n",
      "predicted=1597.070911, expected=1309.000000\n",
      "[1257.4570787270773] <class 'list'>\n",
      "predicted=1597.070911, expected=1303.000000\n",
      "[1270.6229423321881] <class 'list'>\n",
      "predicted=1597.070911, expected=1228.000000\n",
      "[1246.1555369794805] <class 'list'>\n",
      "predicted=1597.070911, expected=1266.000000\n",
      "[1281.4532687339376] <class 'list'>\n",
      "predicted=1597.070911, expected=1241.000000\n",
      "[1261.8676554147817] <class 'list'>\n",
      "predicted=1597.070911, expected=1305.000000\n",
      "[1288.1434130867895] <class 'list'>\n",
      "predicted=1597.070911, expected=1305.000000\n",
      "[1276.3403355801356] <class 'list'>\n",
      "predicted=1597.070911, expected=1306.000000\n",
      "[1286.5546367772108] <class 'list'>\n",
      "predicted=1597.070911, expected=1344.000000\n",
      "[1313.4216719667763] <class 'list'>\n",
      "predicted=1597.070911, expected=1366.000000\n",
      "[1335.1662983734982] <class 'list'>\n",
      "predicted=1597.070911, expected=1428.000000\n",
      "[1373.7945255880377] <class 'list'>\n",
      "predicted=1597.070911, expected=1452.000000\n",
      "[1394.5053050121255] <class 'list'>\n",
      "predicted=1597.070911, expected=1454.000000\n",
      "[1413.708999138015] <class 'list'>\n",
      "predicted=1597.070911, expected=1442.000000\n",
      "[1425.4337673963796] <class 'list'>\n",
      "predicted=1597.070911, expected=1445.000000\n",
      "[1442.8974332215716] <class 'list'>\n",
      "predicted=1597.070911, expected=1447.000000\n",
      "[1448.0523798793947] <class 'list'>\n",
      "predicted=1597.070911, expected=1473.000000\n",
      "[1460.9226971146793] <class 'list'>\n",
      "predicted=1597.070911, expected=1470.000000\n",
      "[1457.469220494573] <class 'list'>\n",
      "predicted=1597.070911, expected=1480.000000\n",
      "[1466.8977262198928] <class 'list'>\n",
      "predicted=1597.070911, expected=1495.000000\n",
      "[1478.8894509290571] <class 'list'>\n",
      "predicted=1597.070911, expected=1560.000000\n",
      "[1518.2542064264765] <class 'list'>\n",
      "predicted=1597.070911, expected=1427.000000\n",
      "[1450.5081886514884] <class 'list'>\n",
      "predicted=1597.070911, expected=1443.000000\n",
      "[1474.626442063812] <class 'list'>\n",
      "predicted=1597.070911, expected=1501.000000\n",
      "[1500.646065552532] <class 'list'>\n",
      "predicted=1597.070911, expected=1483.000000\n",
      "[1481.8697520228884] <class 'list'>\n",
      "predicted=1597.070911, expected=1559.000000\n",
      "[1510.3499514495559] <class 'list'>\n",
      "predicted=1597.070911, expected=1598.000000\n",
      "[1536.7210150400256] <class 'list'>\n",
      "predicted=1597.070911, expected=1597.000000\n"
     ]
    }
   ],
   "source": [
    "for i in range(len(test)):\n",
    "    model = ARIMA(history, order=(5,1,0))\n",
    "    model_fit = model.fit()\n",
    "    output = list(model_fit.forecast())\n",
    "    print(output, type(output))\n",
    "    predictions.append(output[0])\n",
    "    obs = list(test)[i]\n",
    "    history.append(obs)\n",
    "    print('predicted=%f, expected=%f' % (output[0], obs))"
   ]
  },
  {
   "cell_type": "code",
   "execution_count": 154,
   "id": "pleased-walnut",
   "metadata": {},
   "outputs": [],
   "source": [
    "from sklearn.metrics import mean_squared_error\n",
    "rmse=(mean_squared_error(test, predictions)**0.5)"
   ]
  },
  {
   "cell_type": "code",
   "execution_count": 155,
   "id": "eight-powell",
   "metadata": {},
   "outputs": [
    {
     "name": "stdout",
     "output_type": "stream",
     "text": [
      "44.461162286762786\n"
     ]
    }
   ],
   "source": [
    "print(rmse)"
   ]
  },
  {
   "cell_type": "code",
   "execution_count": 157,
   "id": "combined-strategy",
   "metadata": {},
   "outputs": [
    {
     "name": "stdout",
     "output_type": "stream",
     "text": [
      "0.039167114251033475\n"
     ]
    }
   ],
   "source": [
    "from sklearn.metrics import mean_absolute_percentage_error\n",
    "mape=(mean_absolute_percentage_error(test, predictions))\n",
    "print(mape)"
   ]
  },
  {
   "cell_type": "code",
   "execution_count": 161,
   "id": "discrete-sharp",
   "metadata": {},
   "outputs": [
    {
     "name": "stdout",
     "output_type": "stream",
     "text": [
      "[760.6045938057719] <class 'list'>\n",
      "predicted=760.604594, expected=732.000000\n",
      "[758.419178565634] <class 'list'>\n",
      "predicted=758.419179, expected=684.000000\n",
      "[722.0916118134775] <class 'list'>\n",
      "predicted=722.091612, expected=681.000000\n",
      "[708.7245507347151] <class 'list'>\n",
      "predicted=708.724551, expected=682.000000\n",
      "[695.5495196544356] <class 'list'>\n",
      "predicted=695.549520, expected=673.000000\n",
      "[676.7672431308124] <class 'list'>\n",
      "predicted=676.767243, expected=704.000000\n",
      "[694.0233430530478] <class 'list'>\n",
      "predicted=694.023343, expected=754.000000\n",
      "[722.3473825379095] <class 'list'>\n",
      "predicted=722.347383, expected=791.000000\n",
      "[746.0368949743644] <class 'list'>\n",
      "predicted=746.036895, expected=708.000000\n",
      "[713.4796936958817] <class 'list'>\n",
      "predicted=713.479694, expected=708.000000\n",
      "[731.6269413286653] <class 'list'>\n",
      "predicted=731.626941, expected=711.000000\n",
      "[732.0745781997902] <class 'list'>\n",
      "predicted=732.074578, expected=721.000000\n",
      "[715.1722105948099] <class 'list'>\n",
      "predicted=715.172211, expected=791.000000\n",
      "[756.3317994058201] <class 'list'>\n",
      "predicted=756.331799, expected=773.000000\n",
      "[748.6167092296774] <class 'list'>\n",
      "predicted=748.616709, expected=792.000000\n",
      "[771.8949474287961] <class 'list'>\n",
      "predicted=771.894947, expected=839.000000\n",
      "[816.0443378954562] <class 'list'>\n",
      "predicted=816.044338, expected=816.000000\n",
      "[800.733020227201] <class 'list'>\n",
      "predicted=800.733020, expected=841.000000\n",
      "[826.756238858353] <class 'list'>\n",
      "predicted=826.756239, expected=873.000000\n",
      "[855.2479870724176] <class 'list'>\n",
      "predicted=855.247987, expected=854.000000\n",
      "[841.6012576171285] <class 'list'>\n",
      "predicted=841.601258, expected=777.000000\n",
      "[807.9713507809238] <class 'list'>\n",
      "predicted=807.971351, expected=789.000000\n",
      "[820.4936368581627] <class 'list'>\n",
      "predicted=820.493637, expected=812.000000\n",
      "[818.1411016925847] <class 'list'>\n",
      "predicted=818.141102, expected=800.000000\n",
      "[791.9104123740933] <class 'list'>\n",
      "predicted=791.910412, expected=751.000000\n",
      "[769.8026607785503] <class 'list'>\n",
      "predicted=769.802661, expected=764.000000\n",
      "[781.6224804766822] <class 'list'>\n",
      "predicted=781.622480, expected=813.000000\n",
      "[800.1572096589564] <class 'list'>\n",
      "predicted=800.157210, expected=697.000000\n",
      "[721.5118703799351] <class 'list'>\n",
      "predicted=721.511870, expected=698.000000\n",
      "[731.5026975028348] <class 'list'>\n",
      "predicted=731.502698, expected=686.000000\n",
      "[721.9811278364112] <class 'list'>\n",
      "predicted=721.981128, expected=665.000000\n",
      "[678.0535337511678] <class 'list'>\n",
      "predicted=678.053534, expected=601.000000\n",
      "[639.3266791852465] <class 'list'>\n",
      "predicted=639.326679, expected=609.000000\n",
      "[637.2990393291402] <class 'list'>\n",
      "predicted=637.299039, expected=608.000000\n",
      "[622.2136654536974] <class 'list'>\n",
      "predicted=622.213665, expected=603.000000\n",
      "[602.8757579543355] <class 'list'>\n",
      "predicted=602.875758, expected=606.000000\n",
      "[606.6332011552563] <class 'list'>\n",
      "predicted=606.633201, expected=593.000000\n",
      "[598.1407460511818] <class 'list'>\n",
      "predicted=598.140746, expected=610.000000\n",
      "[606.9611921272035] <class 'list'>\n",
      "predicted=606.961192, expected=605.000000\n",
      "[603.2191157108183] <class 'list'>\n",
      "predicted=603.219116, expected=614.000000\n",
      "[607.190947813063] <class 'list'>\n",
      "predicted=607.190948, expected=613.000000\n",
      "[610.6467536570176] <class 'list'>\n",
      "predicted=610.646754, expected=617.000000\n",
      "[612.8334950162299] <class 'list'>\n",
      "predicted=612.833495, expected=621.000000\n",
      "[617.5156820105755] <class 'list'>\n",
      "predicted=617.515682, expected=624.000000\n",
      "[619.5669597592182] <class 'list'>\n",
      "predicted=619.566960, expected=641.000000\n",
      "[631.1140458411566] <class 'list'>\n",
      "predicted=631.114046, expected=648.000000\n",
      "[636.821876309959] <class 'list'>\n",
      "predicted=636.821876, expected=657.000000\n",
      "[645.268596773055] <class 'list'>\n",
      "predicted=645.268597, expected=677.000000\n",
      "[662.5787257640693] <class 'list'>\n",
      "predicted=662.578726, expected=640.000000\n",
      "[644.3928071406251] <class 'list'>\n",
      "predicted=644.392807, expected=628.000000\n",
      "[642.3528004655712] <class 'list'>\n",
      "predicted=642.352800, expected=637.000000\n",
      "[647.8697715601279] <class 'list'>\n",
      "predicted=647.869772, expected=643.000000\n",
      "[639.6403744206177] <class 'list'>\n",
      "predicted=639.640374, expected=657.000000\n",
      "[645.774723772869] <class 'list'>\n",
      "predicted=645.774724, expected=644.000000\n",
      "[641.6212587582485] <class 'list'>\n",
      "predicted=641.621259, expected=646.000000\n",
      "[646.2539091066209] <class 'list'>\n",
      "predicted=646.253909, expected=658.000000\n",
      "[655.2851766127044] <class 'list'>\n",
      "predicted=655.285177, expected=675.000000\n",
      "[661.9711603780627] <class 'list'>\n",
      "predicted=661.971160, expected=690.000000\n",
      "[673.019132422149] <class 'list'>\n",
      "predicted=673.019132, expected=690.000000\n",
      "[678.7634011033084] <class 'list'>\n",
      "predicted=678.763401, expected=688.000000\n",
      "[684.3229377521841] <class 'list'>\n",
      "predicted=684.322938, expected=656.000000\n",
      "[669.8224326646069] <class 'list'>\n",
      "predicted=669.822433, expected=639.000000\n",
      "[659.4211361940453] <class 'list'>\n",
      "predicted=659.421136, expected=638.000000\n",
      "[653.752997218834] <class 'list'>\n",
      "predicted=653.752997, expected=655.000000\n",
      "[652.5181414049243] <class 'list'>\n",
      "predicted=652.518141, expected=655.000000\n",
      "[647.8569253862155] <class 'list'>\n",
      "predicted=647.856925, expected=674.000000\n",
      "[660.9641868347193] <class 'list'>\n",
      "predicted=660.964187, expected=685.000000\n",
      "[672.1585733579225] <class 'list'>\n",
      "predicted=672.158573, expected=692.000000\n",
      "[678.9281797851962] <class 'list'>\n",
      "predicted=678.928180, expected=689.000000\n",
      "[683.9576572536893] <class 'list'>\n",
      "predicted=683.957657, expected=714.000000\n",
      "[702.4367632650138] <class 'list'>\n",
      "predicted=702.436763, expected=764.000000\n",
      "[733.186575975808] <class 'list'>\n",
      "predicted=733.186576, expected=740.000000\n",
      "[722.2513882661959] <class 'list'>\n",
      "predicted=722.251388, expected=731.000000\n",
      "[730.5686790762104] <class 'list'>\n",
      "predicted=730.568679, expected=774.000000\n",
      "[765.8701492084872] <class 'list'>\n",
      "predicted=765.870149, expected=770.000000\n",
      "[756.0678245889713] <class 'list'>\n",
      "predicted=756.067825, expected=809.000000\n",
      "[782.1556674100685] <class 'list'>\n",
      "predicted=782.155667, expected=805.000000\n",
      "[791.3584243084603] <class 'list'>\n",
      "predicted=791.358424, expected=796.000000\n",
      "[790.3743693344347] <class 'list'>\n",
      "predicted=790.374369, expected=762.000000\n",
      "[780.6776639432393] <class 'list'>\n",
      "predicted=780.677664, expected=777.000000\n",
      "[786.794660426545] <class 'list'>\n",
      "predicted=786.794660, expected=836.000000\n",
      "[814.0453393276748] <class 'list'>\n",
      "predicted=814.045339, expected=838.000000\n",
      "[808.4206242395402] <class 'list'>\n",
      "predicted=808.420624, expected=869.000000\n",
      "[838.6829700035096] <class 'list'>\n",
      "predicted=838.682970, expected=878.000000\n",
      "[860.5849352477308] <class 'list'>\n",
      "predicted=860.584935, expected=791.000000\n",
      "[814.9201906467408] <class 'list'>\n",
      "predicted=814.920191, expected=727.000000\n",
      "[786.7850073293519] <class 'list'>\n",
      "predicted=786.785007, expected=744.000000\n",
      "[786.6488989145276] <class 'list'>\n",
      "predicted=786.648899, expected=748.000000\n",
      "[756.4672341572739] <class 'list'>\n",
      "predicted=756.467234, expected=752.000000\n",
      "[743.6398303166806] <class 'list'>\n",
      "predicted=743.639830, expected=790.000000\n",
      "[770.9580479132478] <class 'list'>\n",
      "predicted=770.958048, expected=766.000000\n",
      "[758.9524393414508] <class 'list'>\n",
      "predicted=758.952439, expected=759.000000\n",
      "[761.0278196974316] <class 'list'>\n",
      "predicted=761.027820, expected=770.000000\n",
      "[774.4650304571788] <class 'list'>\n",
      "predicted=774.465030, expected=738.000000\n",
      "[748.4199104959235] <class 'list'>\n",
      "predicted=748.419910, expected=741.000000\n",
      "[749.5136907340693] <class 'list'>\n",
      "predicted=749.513691, expected=778.000000\n",
      "[769.6418470224085] <class 'list'>\n",
      "predicted=769.641847, expected=772.000000\n",
      "[758.0932449083977] <class 'list'>\n",
      "predicted=758.093245, expected=792.000000\n",
      "[775.5861332927136] <class 'list'>\n",
      "predicted=775.586133, expected=869.000000\n",
      "[829.7901965813055] <class 'list'>\n",
      "predicted=829.790197, expected=870.000000\n",
      "[832.0799595078594] <class 'list'>\n",
      "predicted=832.079960, expected=858.000000\n",
      "[841.1960906282638] <class 'list'>\n",
      "predicted=841.196091, expected=922.000000\n",
      "[899.5140010474483] <class 'list'>\n",
      "predicted=899.514001, expected=864.000000\n",
      "[864.9262422722769] <class 'list'>\n",
      "predicted=864.926242, expected=891.000000\n",
      "[885.6966547770229] <class 'list'>\n",
      "predicted=885.696655, expected=886.000000\n",
      "[892.5332711095763] <class 'list'>\n",
      "predicted=892.533271, expected=831.000000\n",
      "[848.3740170921033] <class 'list'>\n",
      "predicted=848.374017, expected=848.000000\n"
     ]
    },
    {
     "name": "stdout",
     "output_type": "stream",
     "text": [
      "[864.5294344034196] <class 'list'>\n",
      "predicted=864.529434, expected=859.000000\n",
      "[862.1084282361634] <class 'list'>\n",
      "predicted=862.108428, expected=859.000000\n",
      "[849.4784081937115] <class 'list'>\n",
      "predicted=849.478408, expected=843.000000\n",
      "[846.350012323096] <class 'list'>\n",
      "predicted=846.350012, expected=819.000000\n",
      "[835.2908860104318] <class 'list'>\n",
      "predicted=835.290886, expected=811.000000\n",
      "[828.252021569937] <class 'list'>\n",
      "predicted=828.252022, expected=889.000000\n",
      "[865.8302375227835] <class 'list'>\n",
      "predicted=865.830238, expected=946.000000\n",
      "[891.8863727934344] <class 'list'>\n",
      "predicted=891.886373, expected=967.000000\n",
      "[913.087121314278] <class 'list'>\n",
      "predicted=913.087121, expected=945.000000\n",
      "[929.6693322294816] <class 'list'>\n",
      "predicted=929.669332, expected=920.000000\n",
      "[933.4667588229285] <class 'list'>\n",
      "predicted=933.466759, expected=958.000000\n",
      "[958.0754375092503] <class 'list'>\n",
      "predicted=958.075438, expected=1035.000000\n",
      "[993.651938989004] <class 'list'>\n",
      "predicted=993.651939, expected=998.000000\n",
      "[971.1348481255039] <class 'list'>\n",
      "predicted=971.134848, expected=948.000000\n",
      "[962.7997740617562] <class 'list'>\n",
      "predicted=962.799774, expected=984.000000\n",
      "[999.3181007347584] <class 'list'>\n",
      "predicted=999.318101, expected=970.000000\n",
      "[974.4441020951137] <class 'list'>\n",
      "predicted=974.444102, expected=940.000000\n",
      "[948.1726444652828] <class 'list'>\n",
      "predicted=948.172644, expected=988.000000\n",
      "[983.7623375976999] <class 'list'>\n",
      "predicted=983.762338, expected=919.000000\n",
      "[936.0699858959415] <class 'list'>\n",
      "predicted=936.069986, expected=954.000000\n",
      "[954.2752232133914] <class 'list'>\n",
      "predicted=954.275223, expected=898.000000\n",
      "[925.6390508450593] <class 'list'>\n",
      "predicted=925.639051, expected=921.000000\n",
      "[924.5025743442768] <class 'list'>\n",
      "predicted=924.502574, expected=947.000000\n",
      "[941.6584880968966] <class 'list'>\n",
      "predicted=941.658488, expected=937.000000\n",
      "[923.8866189059233] <class 'list'>\n",
      "predicted=923.886619, expected=1016.000000\n",
      "[979.5963037235282] <class 'list'>\n",
      "predicted=979.596304, expected=1041.000000\n",
      "[1000.4779549218531] <class 'list'>\n",
      "predicted=1000.477955, expected=1052.000000\n",
      "[1015.2092775089251] <class 'list'>\n",
      "predicted=1015.209278, expected=1058.000000\n",
      "[1043.8499432377387] <class 'list'>\n",
      "predicted=1043.849943, expected=1001.000000\n",
      "[1019.1285605346765] <class 'list'>\n",
      "predicted=1019.128561, expected=1019.000000\n",
      "[1032.9849557752825] <class 'list'>\n",
      "predicted=1032.984956, expected=1156.000000\n",
      "[1106.5345247981227] <class 'list'>\n",
      "predicted=1106.534525, expected=1215.000000\n",
      "[1128.7638067109162] <class 'list'>\n",
      "predicted=1128.763807, expected=1233.000000\n",
      "[1163.4839530669838] <class 'list'>\n",
      "predicted=1163.483953, expected=1168.000000\n",
      "[1171.4653065677353] <class 'list'>\n",
      "predicted=1171.465307, expected=1221.000000\n",
      "[1220.3953866947245] <class 'list'>\n",
      "predicted=1220.395387, expected=1226.000000\n",
      "[1219.6863855136091] <class 'list'>\n",
      "predicted=1219.686386, expected=1285.000000\n",
      "[1243.5258807364385] <class 'list'>\n",
      "predicted=1243.525881, expected=1309.000000\n",
      "[1273.127537442019] <class 'list'>\n",
      "predicted=1273.127537, expected=1303.000000\n",
      "[1279.319090348847] <class 'list'>\n",
      "predicted=1279.319090, expected=1228.000000\n",
      "[1255.1317209842796] <class 'list'>\n",
      "predicted=1255.131721, expected=1266.000000\n",
      "[1282.381700147002] <class 'list'>\n",
      "predicted=1282.381700, expected=1241.000000\n",
      "[1256.1749631184568] <class 'list'>\n",
      "predicted=1256.174963, expected=1305.000000\n",
      "[1277.8853849555107] <class 'list'>\n",
      "predicted=1277.885385, expected=1305.000000\n",
      "[1285.3398208772153] <class 'list'>\n",
      "predicted=1285.339821, expected=1306.000000\n",
      "[1287.8905687063386] <class 'list'>\n",
      "predicted=1287.890569, expected=1344.000000\n",
      "[1327.5024422610513] <class 'list'>\n",
      "predicted=1327.502442, expected=1366.000000\n",
      "[1340.7219700475443] <class 'list'>\n",
      "predicted=1340.721970, expected=1428.000000\n",
      "[1382.4366188401573] <class 'list'>\n",
      "predicted=1382.436619, expected=1452.000000\n",
      "[1410.2973502692937] <class 'list'>\n",
      "predicted=1410.297350, expected=1454.000000\n",
      "[1426.203601096243] <class 'list'>\n",
      "predicted=1426.203601, expected=1442.000000\n",
      "[1439.515352581312] <class 'list'>\n",
      "predicted=1439.515353, expected=1445.000000\n",
      "[1448.0095141548145] <class 'list'>\n",
      "predicted=1448.009514, expected=1447.000000\n",
      "[1448.090436664596] <class 'list'>\n",
      "predicted=1448.090437, expected=1473.000000\n",
      "[1460.3483826940944] <class 'list'>\n",
      "predicted=1460.348383, expected=1470.000000\n",
      "[1459.902226348206] <class 'list'>\n",
      "predicted=1459.902226, expected=1480.000000\n",
      "[1469.8189361212756] <class 'list'>\n",
      "predicted=1469.818936, expected=1495.000000\n",
      "[1485.317747971049] <class 'list'>\n",
      "predicted=1485.317748, expected=1560.000000\n",
      "[1523.773476160564] <class 'list'>\n",
      "predicted=1523.773476, expected=1427.000000\n",
      "[1451.7692777876869] <class 'list'>\n",
      "predicted=1451.769278, expected=1443.000000\n",
      "[1473.0931005342359] <class 'list'>\n",
      "predicted=1473.093101, expected=1501.000000\n",
      "[1506.406630920249] <class 'list'>\n",
      "predicted=1506.406631, expected=1483.000000\n",
      "[1462.198618732758] <class 'list'>\n",
      "predicted=1462.198619, expected=1559.000000\n",
      "[1518.6009981243963] <class 'list'>\n",
      "predicted=1518.600998, expected=1598.000000\n",
      "[1555.2541390196668] <class 'list'>\n",
      "predicted=1555.254139, expected=1597.000000\n"
     ]
    }
   ],
   "source": [
    "predictions_1=[]\n",
    "history_1=[x for x in train]\n",
    "for i in range(len(test)):\n",
    "    model = ARIMA(history_1, order=(3,2,1))\n",
    "    model_fit = model.fit()\n",
    "    output = list(model_fit.forecast())\n",
    "    print(output, type(output))\n",
    "    predictions_1.append(output[0])\n",
    "    obs = list(test)[i]\n",
    "    history_1.append(obs)\n",
    "    print('predicted=%f, expected=%f' % (output[0], obs))"
   ]
  },
  {
   "cell_type": "code",
   "execution_count": 162,
   "id": "asian-timeline",
   "metadata": {},
   "outputs": [
    {
     "name": "stdout",
     "output_type": "stream",
     "text": [
      "42.52315468267342\n",
      "0.039167114251033475\n"
     ]
    }
   ],
   "source": [
    "rmse=(mean_squared_error(test, predictions_1)**0.5)\n",
    "mape=(mean_absolute_percentage_error(test, predictions))\n",
    "print(rmse)\n",
    "print(mape)"
   ]
  },
  {
   "cell_type": "code",
   "execution_count": 168,
   "id": "prepared-blowing",
   "metadata": {},
   "outputs": [
    {
     "data": {
      "image/png": "[encoded data removed]",
      "text/plain": [
       "<Figure size 360x360 with 1 Axes>"
      ]
     },
     "metadata": {
      "needs_background": "light"
     },
     "output_type": "display_data"
    }
   ],
   "source": [
    "plt.plot(list(test))\n",
    "plt.plot(predictions, color='red')\n",
    "plt.show()"
   ]
  },
  {
   "cell_type": "code",
   "execution_count": 169,
   "id": "cathedral-andrews",
   "metadata": {},
   "outputs": [
    {
     "data": {
      "image/png": "[encoded data removed]",
      "text/plain": [
       "<Figure size 360x360 with 1 Axes>"
      ]
     },
     "metadata": {
      "needs_background": "light"
     },
     "output_type": "display_data"
    }
   ],
   "source": [
    "plt.plot(list(test))\n",
    "plt.plot(predictions_1, color='red')\n",
    "plt.show()"
   ]
  },
  {
   "cell_type": "code",
   "execution_count": null,
   "id": "interracial-painting",
   "metadata": {},
   "outputs": [],
   "source": []
  }
 ],
 "metadata": {
  "kernelspec": {
   "display_name": "Python 3",
   "language": "python",
   "name": "python3"
  },
  "language_info": {
   "codemirror_mode": {
    "name": "ipython",
    "version": 3
   },
   "file_extension": ".py",
   "mimetype": "text/x-python",
   "name": "python",
   "nbconvert_exporter": "python",
   "pygments_lexer": "ipython3",
   "version": "3.7.9"
  }
 },
 "nbformat": 4,
 "nbformat_minor": 5
}
